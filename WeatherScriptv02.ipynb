{
 "cells": [
  {
   "cell_type": "code",
   "execution_count": 129,
   "metadata": {
    "collapsed": true
   },
   "outputs": [],
   "source": [
    "import time\n",
    "import pandas as pd\n",
    "import numpy as np\n",
    "import math\n",
    "from math import cos, asin, sqrt\n",
    "import gc\n",
    "import os.path\n",
    "\n",
    "\n",
    "pd.set_option('display.max_columns', None)"
   ]
  },
  {
   "cell_type": "code",
   "execution_count": 130,
   "metadata": {},
   "outputs": [
    {
     "name": "stdout",
     "output_type": "stream",
     "text": [
      "19.9059998989\n"
     ]
    }
   ],
   "source": [
    "start = time.time()\n",
    "#########################controlar la excepcion si no esta el fichero creado-----------------------------------------\n",
    "vuelos = pd.read_csv('vuelos.csv', sep=',',low_memory=False, )\n",
    "vuelos.rename(columns={'Unnamed: 0': 'index'}, inplace=True)\n",
    "\n",
    "end = time.time()\n",
    "print(end - start)"
   ]
  },
  {
   "cell_type": "code",
   "execution_count": 131,
   "metadata": {},
   "outputs": [
    {
     "name": "stdout",
     "output_type": "stream",
     "text": [
      "0.0\n"
     ]
    }
   ],
   "source": [
    "start = time.time()\n",
    "\n",
    "if vuelos.empty:\n",
    "    #hay que tener cuidado de no machacar nada.\n",
    "    vuelos = pd.read_csv('vuelosDeparted.csv', sep=',',low_memory=False, )\n",
    "    vuelos.rename(columns={'Unnamed: 0': 'index'}, inplace=True)\n",
    "\n",
    "    vuelos[\"TMIN_o\"]= ''\n",
    "    vuelos[\"TMIN_d\"]= ''\n",
    "    vuelos[\"TMAX_o\"]= ''\n",
    "    vuelos[\"TMAX_d\"]= ''\n",
    "    vuelos[\"TAVG_o\"]= ''\n",
    "    vuelos[\"TAVG_d\"]= ''\n",
    "    vuelos[\"SNOW_o\"]= ''\n",
    "    vuelos[\"SNOW_d\"]= ''\n",
    "    vuelos[\"PRCP_o\"]= ''\n",
    "    vuelos[\"PRCP_d\"]= ''\n",
    "    vuelos[\"SNWD_o\"]= ''\n",
    "    vuelos[\"SNWD_d\"]= ''\n",
    "    vuelos[\"ACMC_o\"]= ''\n",
    "    vuelos[\"ACMC_d\"]= ''\n",
    "    vuelos[\"ACSC_o\"]= ''\n",
    "    vuelos[\"ACSC_d\"]= ''\n",
    "    vuelos[\"AWDR_o\"]= ''\n",
    "    vuelos[\"AWDR_d\"]= ''\n",
    "    vuelos[\"AWND_o\"]= ''\n",
    "    vuelos[\"AWND_d\"]= ''\n",
    "    vuelos[\"EVAP_o\"]= ''\n",
    "    vuelos[\"EVAP_d\"]= ''\n",
    "    vuelos[\"FRTH_o\"]= ''\n",
    "    vuelos[\"FRTH_d\"]= ''\n",
    "    vuelos[\"TSUN_o\"]= ''\n",
    "    vuelos[\"TSUN_d\"]= ''\n",
    "    vuelos[\"WDMV_o\"]= ''\n",
    "    vuelos[\"WDMV_d\"]= ''\n",
    "\n",
    "\n",
    "    vuelos.to_csv('vuelos.csv', sep=',', index=False)\n",
    "\n",
    "end = time.time()\n",
    "print(end - start)"
   ]
  },
  {
   "cell_type": "code",
   "execution_count": 132,
   "metadata": {},
   "outputs": [
    {
     "name": "stdout",
     "output_type": "stream",
     "text": [
      "0.523000001907\n"
     ]
    }
   ],
   "source": [
    "start = time.time()\n",
    "##Leemos el fichero de estaciones de noaa\n",
    "\n",
    "stationstxt = \"\"\n",
    "with open(\"stations.txt\") as input:\n",
    "    stationstxt = input.read()\n",
    "    \n",
    "#Extract the data from file\n",
    "stations2 = stationstxt.split(\"\\n\")\n",
    "#Remove last line\n",
    "stations2 = stations2[:-1]\n",
    "stations2 = map(lambda line: [line[0:11],float(line[13:20]),float(line[22:30]),line[41:71]], stations2)\n",
    "\n",
    "end = time.time()\n",
    "print(end - start)"
   ]
  },
  {
   "cell_type": "markdown",
   "metadata": {},
   "source": [
    "# Leemos datos del tiempo de noaa"
   ]
  },
  {
   "cell_type": "code",
   "execution_count": 146,
   "metadata": {},
   "outputs": [
    {
     "name": "stdout",
     "output_type": "stream",
     "text": [
      "54.4960000515\n"
     ]
    }
   ],
   "source": [
    "start = time.time()\n",
    "\n",
    "year = '2014'\n",
    "\n",
    "weatherdf = pd.read_csv(year+\".csv\",header=None)\n",
    "weatherdf.columns = [\"id\",\"date\",\"type\",\"Value1\",\"Value2\",\"Value3\",\"Value4\",\"Value5\"]\n",
    "\n",
    "##nos quedamos con las latitudes de las estaciones.\n",
    "stationsdf = pd.DataFrame(stations2)\n",
    "stationsdf.columns = [\"id\",\"lat\",\"lng\",\"name\"]\n",
    "lats = stationsdf[['lat','lng']]\n",
    "\n",
    "#funciones para calcular la distancia entre los aeropuertos y estacion metereologica mas cercana\n",
    "def distance(lat1, lon1, lat2, lon2):\n",
    "    p = 0.017453292519943295\n",
    "    a = 0.5 - cos((lat2-lat1)*p)/2 + cos(lat1*p)*cos(lat2*p) * (1-cos((lon2-lon1)*p)) / 2\n",
    "    return 12742 * asin(sqrt(a))\n",
    "\n",
    "def closest(data, v):\n",
    "    return min(data, key=lambda p: distance(v[0],v[1],p[0],p[1]))\n",
    "\n",
    "\n",
    "#para que la fecha no de problemas al comparar (quizas no este bien del todo)\n",
    "def tratarFecha(fecha):\n",
    "    fecha = str(fecha).split(' ')[0]\n",
    "    fecha = fecha.replace('-','')\n",
    "    fecha = int(fecha)\n",
    "    return fecha\n",
    "\n",
    "\n",
    "\n",
    "del weatherdf['Value3']\n",
    "del weatherdf['Value4']\n",
    "del weatherdf['Value5']\n",
    "del weatherdf['Value2']\n",
    "weather = weatherdf ##creamos bck\n",
    "\n",
    "\n",
    "\n",
    "def obtenerEstacion2(row):\n",
    "    lat = row['board_lat']\n",
    "    lon = row['board_lon']\n",
    "    coor = [lat,lon]\n",
    "    EMC= closest(np.asarray(lats), coor)\n",
    "    ##obtenemos el id de la estacion de board\n",
    "    aux = stationsdf[stationsdf['lat']==EMC[0]]\n",
    "    aux = stationsdf[stationsdf['lng']==EMC[1]]\n",
    "    EMC = aux['id']\n",
    "    s =EMC.to_string()\n",
    "    stationid = str(s)\n",
    "    row['stationid'] = stationid.split()[1]\n",
    "    return row\n",
    "\n",
    "def obtenerEstacion3(row):\n",
    "    lat = row['off_lat']\n",
    "    lon = row['off_lon']\n",
    "    coor = [lat,lon]\n",
    "    EMC= closest(np.asarray(lats), coor)\n",
    "    ##obtenemos el id de la estacion de board\n",
    "    aux = stationsdf[stationsdf['lat']==EMC[0]]\n",
    "    aux = stationsdf[stationsdf['lng']==EMC[1]]\n",
    "    EMC = aux['id']\n",
    "    s =EMC.to_string()\n",
    "    stationid = str(s)\n",
    "    row['stationid'] = stationid.split()[1]\n",
    "    return row\n",
    "\n",
    "def aplicarEstacionesOrigen(row):\n",
    "    row['board_stationid']= coordenadasOrigen[(coordenadasOrigen.board_lat == row['board_lat'])&(coordenadasOrigen.board_lon == row['board_lon'])]['stationid'].values[0]\n",
    "    return row\n",
    "\n",
    "def aplicarEstacionesDestino(row):\n",
    "    row['off_stationid']= coordenadasDestino[(coordenadasDestino.off_lat == row['off_lat'])&(coordenadasDestino.off_lon == row['off_lon'])]['stationid'].values[0]\n",
    "    return row\n",
    "\n",
    "\n",
    "end = time.time()\n",
    "print(end - start)"
   ]
  },
  {
   "cell_type": "code",
   "execution_count": 147,
   "metadata": {
    "collapsed": true
   },
   "outputs": [],
   "source": [
    "#aplicamos y obtenemos las estaciones (para mejorar el procesado)\n",
    "if 'board_stationid' in vuelos:\n",
    "    pass\n",
    "else:\n",
    "    coordenadasOrigen = vuelos[['board_lat','board_lon']]\n",
    "    coordenadasDestino = vuelos[['off_lat','off_lon']]\n",
    "    coordenadasOrigen = coordenadasOrigen.drop_duplicates(subset=['board_lat', 'board_lon'])\n",
    "    coordenadasDestino = coordenadasDestino.drop_duplicates(subset=['off_lat', 'off_lon'])\n",
    "    coordenadasOrigen = coordenadasOrigen.apply(lambda x:obtenerEstacion2(x),axis = 1)\n",
    "    coordenadasDestino = coordenadasDestino.apply(lambda x:obtenerEstacion3(x),axis = 1)\n",
    "    vuelos = vuelos.apply(lambda x: aplicarEstacionesOrigen(x),axis = 1)\n",
    "    vuelos = vuelos.apply(lambda x: aplicarEstacionesDestino(x),axis = 1)"
   ]
  },
  {
   "cell_type": "code",
   "execution_count": 148,
   "metadata": {
    "collapsed": true
   },
   "outputs": [],
   "source": [
    "def tratar2(row):\n",
    "    \n",
    "    board_station = row['board_stationid']\n",
    "    off_station = row['off_stationid']\n",
    "    fecha = row['actual_time_of_departure']\n",
    "    fecha_d = row['actual_time_of_arrival'] \n",
    "    ##################################\n",
    "    #primero tratamos las fechas\n",
    "    fecha = tratarFecha(fecha)\n",
    "    fecha_d = tratarFecha(fecha_d)\n",
    "    #########################################################################################################\n",
    "    data_board = weatherdf[(weatherdf[\"id\"]==board_station)&(weatherdf['date']==fecha)].sort_values(\"date\")\n",
    "    data_off   = weatherdf[(weatherdf[\"id\"]==off_station)&(weatherdf['date']==fecha_d)].sort_values(\"date\")\n",
    "    #####################################################\n",
    "    data_board[\"Value1\"]=data_board[\"Value1\"]/10\n",
    "    data_board = data_board.reset_index()\n",
    "    data_off[\"Value1\"]=data_off[\"Value1\"]/10\n",
    "    data_off = data_off.reset_index()\n",
    "        #######################################################\n",
    "    T1 = data_board[data_board['type']=='TMIN']['Value1']\n",
    "    T2 = data_off[data_off['type']=='TMIN']['Value1']\n",
    "    T3 = data_board[data_board['type']=='TMAX']['Value1']\n",
    "    T4 = data_off[data_off['type']=='TMAX']['Value1']\n",
    "    T5 = data_board[data_board['type']=='TAVG']['Value1']\n",
    "    T6 = data_off[data_off['type']=='TAVG']['Value1']\n",
    "    T7 = data_board[data_board['type']=='SNOW']['Value1']\n",
    "    T8 = data_off[data_off['type']=='SNOW']['Value1']\n",
    "    T9 = data_board[data_board['type']=='PRCP']['Value1']\n",
    "    T10 = data_off[data_off['type']=='PRCP']['Value1']\n",
    "    T11 = data_board[data_board['type']=='SNWD']['Value1']\n",
    "    T12 = data_off[data_off['type']=='SNWD']['Value1']\n",
    "    T13 = data_board[data_board['type']=='ACMC']['Value1']\n",
    "    T14 = data_off[data_off['type']=='ACMC']['Value1']\n",
    "    T17 = data_board[data_board['type']=='ACSC']['Value1']\n",
    "    T18 = data_off[data_off['type']=='ACSC']['Value1']\n",
    "    T21 = data_board[data_board['type']=='AWDR']['Value1']\n",
    "    T22 = data_off[data_off['type']=='AWDR']['Value1']\n",
    "    T23 = data_board[data_board['type']=='AWND']['Value1']\n",
    "    T24 = data_off[data_off['type']=='AWND']['Value1']\n",
    "    T39 = data_board[data_board['type']=='EVAP']['Value1']\n",
    "    T40 = data_off[data_off['type']=='EVAP']['Value1']\n",
    "    T47 = data_board[data_board['type']=='FRTH']['Value1']\n",
    "    T48 = data_off[data_off['type']=='FRTH']['Value1']\n",
    "    T75 = data_board[data_board['type']=='TSUN']['Value1']\n",
    "    T76 = data_off[data_off['type']=='TSUN']['Value1']\n",
    "    T89 = data_board[data_board['type']=='WDMV']['Value1']\n",
    "    T90 = data_off[data_off['type']=='WDMV']['Value1']\n",
    "    \n",
    "    \n",
    "    ##############################\n",
    "    ##tratamos los valores nulos aplicando un valor nulo\n",
    "    if T1.empty:\n",
    "        T1 = 9999\n",
    "    if T2.empty:\n",
    "        T2 = 9999\n",
    "    if T3.empty:\n",
    "        T3 = 9999\n",
    "    if T4.empty:\n",
    "        T4 = 9999\n",
    "    if T5.empty:\n",
    "        T5 = 9999\n",
    "    if T6.empty:\n",
    "        T6 = 9999\n",
    "    if T7.empty:\n",
    "        T7 = 9999\n",
    "    if T8.empty:\n",
    "        T8 = 9999\n",
    "    if T9.empty:\n",
    "        T9 = 9999\n",
    "    if T10.empty:\n",
    "        T10 = 9999\n",
    "    if T11.empty:\n",
    "        T11 = 9999\n",
    "    if T12.empty:\n",
    "        T12 = 9999\n",
    "    if T13.empty:\n",
    "        T13 = 9999\n",
    "    if T14.empty:\n",
    "        T14 = 9999\n",
    "    if T17.empty:\n",
    "        T17 = 9999\n",
    "    if T18.empty:\n",
    "        T18 = 9999\n",
    "    if T21.empty:\n",
    "        T21 = 9999\n",
    "    if T22.empty:\n",
    "        T22 = 9999\n",
    "    if T23.empty:\n",
    "        T23 = 9999\n",
    "    if T24.empty:\n",
    "        T24 = 9999\n",
    "    if T39.empty:\n",
    "        T39 = 9999\n",
    "    if T40.empty:\n",
    "        T40 = 9999\n",
    "    if T47.empty:\n",
    "        T47 = 9999\n",
    "    if T48.empty:\n",
    "        T48 = 9999\n",
    "    if T75.empty:\n",
    "        T75 = 9999\n",
    "    if T76.empty:\n",
    "        T76 = 9999\n",
    "    if T89.empty:\n",
    "        T89 = 9999\n",
    "    if T90.empty:\n",
    "        T90 = 9999\n",
    "      \n",
    "        \n",
    "    #actualizamos la fila\n",
    "    row['TMIN_o']= float(T1)\n",
    "    row['TMIN_d']= float(T2)\n",
    "    row['TMAX_o']= float(T3)\n",
    "    row['TMAX_d']= float(T4)\n",
    "    row['TAVG_o']= float(T5)\n",
    "    row['TAVG_d']= float(T6)\n",
    "    row['SNOW_o']= float(T7)\n",
    "    row['SNOW_d']= float(T8)\n",
    "    row['PRCP_o']= float(T9)\n",
    "    row['PRCP_d']= float(T10)\n",
    "    row['SNWD_o']= float(T11)\n",
    "    row['SNWD_d']= float(T12)\n",
    "    row['ACMC_o']= float(T13)\n",
    "    row['ACMC_d']= float(T14)\n",
    "    row['ACSC_o']= float(T17)\n",
    "    row['ACSC_d']= float(T18)\n",
    "    row['AWDR_o']= float(T21)\n",
    "    row['AWDR_d']= float(T22)\n",
    "    row['AWND_o']= float(T23)\n",
    "    row['AWND_d']= float(T24)\n",
    "    row['EVAP_o']= float(T39)\n",
    "    row['EVAP_d']= float(T40)\n",
    "    row['FRTH_o']= float(T47)\n",
    "    row['FRTH_d']= float(T48)\n",
    "    row['TSUN_o']= float(T75)\n",
    "    row['TSUN_d']= float(T76)\n",
    "    row['WDMV_o']= float(T89)\n",
    "    row['WDMV_d']= float(T90)\n",
    "\n",
    "\n",
    "    return row\n",
    "\n",
    "def functionWeatherDay(year, month, day):\n",
    "    u = int(month+day)\n",
    "    d = int(year*10000)\n",
    "    weatherdf = weather##restauramos el bck\n",
    "    weatherdf = weatherdf[weatherdf['date']-d==u]\n",
    "    return weatherdf\n",
    "\n",
    "def functionPlus(year, month, day):    \n",
    "    start = time.time()\n",
    "    vuelosSinTratar = vuelos[vuelos['TAVG_o'].isnull()]\n",
    "    x = vuelosSinTratar[vuelosSinTratar['anyoSalida']==year]\n",
    "    x = x[x['mesSalida']==month]\n",
    "    x = x[x['diaSalida']==day]\n",
    "    x = x.apply(lambda x:tratar2(x),axis = 1)\n",
    "    #para escribir ya\n",
    "    #variable auxiliar\n",
    "\n",
    "    pd.options.mode.chained_assignment = None  # default='warn'\n",
    "    vuelosSinTratar['TMIN_o'] = x.set_index(['index'])['TMIN_o'].combine_first(vuelosSinTratar.set_index(['index'])['TMIN_o']).values\n",
    "    vuelosSinTratar['TMIN_d'] = x.set_index(['index'])['TMIN_d'].combine_first(vuelosSinTratar.set_index(['index'])['TMIN_d']).values\n",
    "    vuelosSinTratar['TMAX_o'] = x.set_index(['index'])['TMAX_o'].combine_first(vuelosSinTratar.set_index(['index'])['TMAX_o']).values\n",
    "    vuelosSinTratar['TMAX_d'] = x.set_index(['index'])['TMAX_d'].combine_first(vuelosSinTratar.set_index(['index'])['TMAX_d']).values\n",
    "    vuelosSinTratar['TAVG_o'] = x.set_index(['index'])['TAVG_o'].combine_first(vuelosSinTratar.set_index(['index'])['TAVG_o']).values\n",
    "    vuelosSinTratar['TAVG_d'] = x.set_index(['index'])['TAVG_d'].combine_first(vuelosSinTratar.set_index(['index'])['TAVG_d']).values\n",
    "    vuelosSinTratar['SNOW_o'] = x.set_index(['index'])['SNOW_o'].combine_first(vuelosSinTratar.set_index(['index'])['SNOW_o']).values\n",
    "    vuelosSinTratar['SNOW_d'] = x.set_index(['index'])['SNOW_d'].combine_first(vuelosSinTratar.set_index(['index'])['SNOW_d']).values\n",
    "    vuelosSinTratar['PRCP_o'] = x.set_index(['index'])['PRCP_o'].combine_first(vuelosSinTratar.set_index(['index'])['PRCP_o']).values\n",
    "    vuelosSinTratar['PRCP_d'] = x.set_index(['index'])['PRCP_d'].combine_first(vuelosSinTratar.set_index(['index'])['PRCP_d']).values\n",
    "    vuelosSinTratar['SNWD_o'] = x.set_index(['index'])['SNWD_o'].combine_first(vuelosSinTratar.set_index(['index'])['SNWD_o']).values\n",
    "    vuelosSinTratar['SNWD_d'] = x.set_index(['index'])['SNWD_d'].combine_first(vuelosSinTratar.set_index(['index'])['SNWD_d']).values\n",
    "    vuelosSinTratar['ACMC_o'] = x.set_index(['index'])['ACMC_o'].combine_first(vuelosSinTratar.set_index(['index'])['ACMC_o']).values\n",
    "    vuelosSinTratar['ACMC_d'] = x.set_index(['index'])['ACMC_d'].combine_first(vuelosSinTratar.set_index(['index'])['ACMC_d']).values\n",
    "    vuelosSinTratar['ACSC_o'] = x.set_index(['index'])['ACSC_o'].combine_first(vuelosSinTratar.set_index(['index'])['ACSC_o']).values\n",
    "    vuelosSinTratar['ACSC_d'] = x.set_index(['index'])['ACSC_d'].combine_first(vuelosSinTratar.set_index(['index'])['ACSC_d']).values\n",
    "    vuelosSinTratar['AWDR_o'] = x.set_index(['index'])['AWDR_o'].combine_first(vuelosSinTratar.set_index(['index'])['AWDR_o']).values\n",
    "    vuelosSinTratar['AWDR_d'] = x.set_index(['index'])['AWDR_d'].combine_first(vuelosSinTratar.set_index(['index'])['AWDR_d']).values\n",
    "    vuelosSinTratar['AWND_o'] = x.set_index(['index'])['AWND_o'].combine_first(vuelosSinTratar.set_index(['index'])['AWND_o']).values\n",
    "    vuelosSinTratar['AWND_d'] = x.set_index(['index'])['AWND_d'].combine_first(vuelosSinTratar.set_index(['index'])['AWND_d']).values\n",
    "    vuelosSinTratar['EVAP_o'] = x.set_index(['index'])['EVAP_o'].combine_first(vuelosSinTratar.set_index(['index'])['EVAP_o']).values\n",
    "    vuelosSinTratar['EVAP_d'] = x.set_index(['index'])['EVAP_d'].combine_first(vuelosSinTratar.set_index(['index'])['EVAP_d']).values\n",
    "    vuelosSinTratar['FRTH_o'] = x.set_index(['index'])['FRTH_o'].combine_first(vuelosSinTratar.set_index(['index'])['FRTH_o']).values\n",
    "    vuelosSinTratar['FRTH_d'] = x.set_index(['index'])['FRTH_d'].combine_first(vuelosSinTratar.set_index(['index'])['FRTH_d']).values\n",
    "    vuelosSinTratar['TSUN_o'] = x.set_index(['index'])['TSUN_o'].combine_first(vuelosSinTratar.set_index(['index'])['TSUN_o']).values\n",
    "    vuelosSinTratar['TSUN_d'] = x.set_index(['index'])['TSUN_d'].combine_first(vuelosSinTratar.set_index(['index'])['TSUN_d']).values\n",
    "    vuelosSinTratar['WDMV_o'] = x.set_index(['index'])['WDMV_o'].combine_first(vuelosSinTratar.set_index(['index'])['WDMV_o']).values\n",
    "    vuelosSinTratar['WDMV_d'] = x.set_index(['index'])['WDMV_d'].combine_first(vuelosSinTratar.set_index(['index'])['WDMV_d']).values\n",
    "\n",
    "\n",
    "    vuelos['TMIN_o'] = vuelosSinTratar.set_index(['index'])['TMIN_o'].combine_first(vuelos.set_index(['index'])['TMIN_o']).values\n",
    "    vuelos['TMIN_d'] = vuelosSinTratar.set_index(['index'])['TMIN_d'].combine_first(vuelos.set_index(['index'])['TMIN_d']).values\n",
    "    vuelos['TMAX_o'] = vuelosSinTratar.set_index(['index'])['TMAX_o'].combine_first(vuelos.set_index(['index'])['TMAX_o']).values\n",
    "    vuelos['TMAX_d'] = vuelosSinTratar.set_index(['index'])['TMAX_d'].combine_first(vuelos.set_index(['index'])['TMAX_d']).values\n",
    "    vuelos['TAVG_o'] = vuelosSinTratar.set_index(['index'])['TAVG_o'].combine_first(vuelos.set_index(['index'])['TAVG_o']).values\n",
    "    vuelos['TAVG_d'] = vuelosSinTratar.set_index(['index'])['TAVG_d'].combine_first(vuelos.set_index(['index'])['TAVG_d']).values\n",
    "    vuelos['SNOW_o'] = vuelosSinTratar.set_index(['index'])['SNOW_o'].combine_first(vuelos.set_index(['index'])['SNOW_o']).values\n",
    "    vuelos['SNOW_d'] = vuelosSinTratar.set_index(['index'])['SNOW_d'].combine_first(vuelos.set_index(['index'])['SNOW_d']).values\n",
    "    vuelos['PRCP_o'] = vuelosSinTratar.set_index(['index'])['PRCP_o'].combine_first(vuelos.set_index(['index'])['PRCP_o']).values\n",
    "    vuelos['PRCP_d'] = vuelosSinTratar.set_index(['index'])['PRCP_d'].combine_first(vuelos.set_index(['index'])['PRCP_d']).values\n",
    "    vuelos['SNWD_o'] = vuelosSinTratar.set_index(['index'])['SNWD_o'].combine_first(vuelos.set_index(['index'])['SNWD_o']).values\n",
    "    vuelos['SNWD_d'] = vuelosSinTratar.set_index(['index'])['SNWD_d'].combine_first(vuelos.set_index(['index'])['SNWD_d']).values\n",
    "    vuelos['ACMC_o'] = vuelosSinTratar.set_index(['index'])['ACMC_o'].combine_first(vuelos.set_index(['index'])['ACMC_o']).values\n",
    "    vuelos['ACMC_d'] = vuelosSinTratar.set_index(['index'])['ACMC_d'].combine_first(vuelos.set_index(['index'])['ACMC_d']).values\n",
    "    vuelos['ACSC_o'] = vuelosSinTratar.set_index(['index'])['ACSC_o'].combine_first(vuelos.set_index(['index'])['ACSC_o']).values\n",
    "    vuelos['ACSC_d'] = vuelosSinTratar.set_index(['index'])['ACSC_d'].combine_first(vuelos.set_index(['index'])['ACSC_d']).values\n",
    "    vuelos['AWDR_o'] = vuelosSinTratar.set_index(['index'])['AWDR_o'].combine_first(vuelos.set_index(['index'])['AWDR_o']).values\n",
    "    vuelos['AWDR_d'] = vuelosSinTratar.set_index(['index'])['AWDR_d'].combine_first(vuelos.set_index(['index'])['AWDR_d']).values\n",
    "    vuelos['AWND_o'] = vuelosSinTratar.set_index(['index'])['AWND_o'].combine_first(vuelos.set_index(['index'])['AWND_o']).values\n",
    "    vuelos['AWND_d'] = vuelosSinTratar.set_index(['index'])['AWND_d'].combine_first(vuelos.set_index(['index'])['AWND_d']).values\n",
    "    vuelos['EVAP_o'] = vuelosSinTratar.set_index(['index'])['EVAP_o'].combine_first(vuelos.set_index(['index'])['EVAP_o']).values\n",
    "    vuelos['EVAP_d'] = vuelosSinTratar.set_index(['index'])['EVAP_d'].combine_first(vuelos.set_index(['index'])['EVAP_d']).values\n",
    "    vuelos['FRTH_o'] = vuelosSinTratar.set_index(['index'])['FRTH_o'].combine_first(vuelos.set_index(['index'])['FRTH_o']).values\n",
    "    vuelos['FRTH_d'] = vuelosSinTratar.set_index(['index'])['FRTH_d'].combine_first(vuelos.set_index(['index'])['FRTH_d']).values\n",
    "    vuelos['TSUN_o'] = vuelosSinTratar.set_index(['index'])['TSUN_o'].combine_first(vuelos.set_index(['index'])['TSUN_o']).values\n",
    "    vuelos['TSUN_d'] = vuelosSinTratar.set_index(['index'])['TSUN_d'].combine_first(vuelos.set_index(['index'])['TSUN_d']).values\n",
    "    vuelos['WDMV_o'] = vuelosSinTratar.set_index(['index'])['WDMV_o'].combine_first(vuelos.set_index(['index'])['WDMV_o']).values\n",
    "    vuelos['WDMV_d'] = vuelosSinTratar.set_index(['index'])['WDMV_d'].combine_first(vuelos.set_index(['index'])['WDMV_d']).values\n",
    "\n",
    "    \n",
    "    #vuelos.to_csv('vuelos.csv', sep=',', index=False)\n",
    "    end = time.time()\n",
    "    print(end - start)"
   ]
  },
  {
   "cell_type": "code",
   "execution_count": 149,
   "metadata": {
    "collapsed": true
   },
   "outputs": [],
   "source": [
    "#variables de inicio\n",
    "dia = 1\n",
    "mes = 1"
   ]
  },
  {
   "cell_type": "code",
   "execution_count": 36,
   "metadata": {
    "collapsed": true
   },
   "outputs": [
    {
     "name": "stdout",
     "output_type": "stream",
     "text": [
      "empiezo el mes 1\n",
      "empiezo el dia -  1\n",
      "3.76300001144\n",
      "empiezo el dia -  2\n",
      "3.62800002098\n",
      "empiezo el dia -  3\n",
      "3.58699989319\n",
      "empiezo el dia -  4\n",
      "3.64599990845\n",
      "empiezo el dia -  5\n",
      "3.62300014496\n",
      "empiezo el dia -  6\n",
      "3.56599998474\n",
      "empiezo el dia -  7\n",
      "3.53099989891\n",
      "empiezo el dia -  8\n",
      "4.32399988174\n"
     ]
    }
   ],
   "source": [
    "for mes in range(1,13):\n",
    "    print 'empiezo el mes', mes\n",
    "    mesw = str(mes)\n",
    "    for dia in range(1,32):\n",
    "        print 'empiezo el dia - ' ,dia\n",
    "        diaw = str(dia)\n",
    "        if dia < 10:\n",
    "            diaw = '0'+diaw\n",
    "\n",
    "        weatherdf = functionWeatherDay(anyo,mesw,diaw)\n",
    "        functionPlus(year,mes,dia)"
   ]
  },
  {
   "cell_type": "code",
   "execution_count": 8,
   "metadata": {
    "collapsed": true
   },
   "outputs": [],
   "source": [
    "vuelos.to_csv('vuelos.csv', sep=',', index=False)"
   ]
  },
  {
   "cell_type": "code",
   "execution_count": 9,
   "metadata": {},
   "outputs": [
    {
     "name": "stdout",
     "output_type": "stream",
     "text": [
      "sin tratar de todos  (0, 88)\n",
      "tratados  (212698, 88)\n",
      "sin tratar totales del año  (0, 88)\n",
      "del mes sin tratar  (0, 88)\n",
      "vuelos del dia sin tratar  (0, 88)\n"
     ]
    }
   ],
   "source": [
    "#para ver el estado del proceso...borrar luego.\n",
    "vuelosSinTratar = vuelos[vuelos['TAVG_o'].isnull()]\n",
    "vuelosTratados = vuelos[vuelos['TAVG_o'].notnull()]\n",
    "print 'sin tratar de todos ', vuelosSinTratar.shape\n",
    "print 'tratados ', vuelosTratados.shape\n",
    "x = vuelosSinTratar[vuelosSinTratar['anyoSalida']==2012]\n",
    "print 'sin tratar totales del año ', x.shape\n",
    "x = x[x['mesSalida']==mes]\n",
    "print 'del mes sin tratar ', x.shape\n",
    "x = x[x['diaSalida']==dia]\n",
    "print 'vuelos del dia sin tratar ' , x.shape"
   ]
  },
  {
   "cell_type": "code",
   "execution_count": 75,
   "metadata": {},
   "outputs": [
    {
     "data": {
      "text/plain": [
       "(212698, 88)"
      ]
     },
     "execution_count": 75,
     "metadata": {},
     "output_type": "execute_result"
    }
   ],
   "source": [
    "vuelos.shape"
   ]
  },
  {
   "cell_type": "code",
   "execution_count": 76,
   "metadata": {},
   "outputs": [
    {
     "data": {
      "text/plain": [
       "(93590, 88)"
      ]
     },
     "execution_count": 76,
     "metadata": {},
     "output_type": "execute_result"
    }
   ],
   "source": [
    "vuelos[vuelos.TMIN_d==9999.0].shape"
   ]
  },
  {
   "cell_type": "code",
   "execution_count": 77,
   "metadata": {},
   "outputs": [
    {
     "data": {
      "text/plain": [
       "(80587, 88)"
      ]
     },
     "execution_count": 77,
     "metadata": {},
     "output_type": "execute_result"
    }
   ],
   "source": [
    "vuelos[vuelos.TMIN_o==9999.0].shape"
   ]
  },
  {
   "cell_type": "code",
   "execution_count": 78,
   "metadata": {},
   "outputs": [
    {
     "data": {
      "text/plain": [
       "(80129, 88)"
      ]
     },
     "execution_count": 78,
     "metadata": {},
     "output_type": "execute_result"
    }
   ],
   "source": [
    "vuelos[vuelos.TMAX_d==9999.0].shape"
   ]
  },
  {
   "cell_type": "code",
   "execution_count": 79,
   "metadata": {},
   "outputs": [
    {
     "data": {
      "text/plain": [
       "(66248, 88)"
      ]
     },
     "execution_count": 79,
     "metadata": {},
     "output_type": "execute_result"
    }
   ],
   "source": [
    "vuelos[vuelos.TMAX_o==9999.0].shape"
   ]
  },
  {
   "cell_type": "code",
   "execution_count": 80,
   "metadata": {},
   "outputs": [
    {
     "data": {
      "text/plain": [
       "(50849, 88)"
      ]
     },
     "execution_count": 80,
     "metadata": {},
     "output_type": "execute_result"
    }
   ],
   "source": [
    "vuelos[vuelos.TAVG_d==9999.0].shape"
   ]
  },
  {
   "cell_type": "code",
   "execution_count": 81,
   "metadata": {},
   "outputs": [
    {
     "data": {
      "text/plain": [
       "(10754, 88)"
      ]
     },
     "execution_count": 81,
     "metadata": {},
     "output_type": "execute_result"
    }
   ],
   "source": [
    "vuelos[vuelos.TAVG_o==9999.0].shape"
   ]
  },
  {
   "cell_type": "code",
   "execution_count": 82,
   "metadata": {},
   "outputs": [
    {
     "data": {
      "text/plain": [
       "(212687, 88)"
      ]
     },
     "execution_count": 82,
     "metadata": {},
     "output_type": "execute_result"
    }
   ],
   "source": [
    "vuelos[vuelos.SNOW_o==9999.0].shape"
   ]
  },
  {
   "cell_type": "code",
   "execution_count": 83,
   "metadata": {},
   "outputs": [
    {
     "data": {
      "text/plain": [
       "(212691, 88)"
      ]
     },
     "execution_count": 83,
     "metadata": {},
     "output_type": "execute_result"
    }
   ],
   "source": [
    "vuelos[vuelos.SNOW_d==9999.0].shape"
   ]
  },
  {
   "cell_type": "code",
   "execution_count": 84,
   "metadata": {},
   "outputs": [
    {
     "data": {
      "text/plain": [
       "(45673, 88)"
      ]
     },
     "execution_count": 84,
     "metadata": {},
     "output_type": "execute_result"
    }
   ],
   "source": [
    "vuelos[vuelos.PRCP_o==9999.0].shape"
   ]
  },
  {
   "cell_type": "code",
   "execution_count": 85,
   "metadata": {},
   "outputs": [
    {
     "data": {
      "text/plain": [
       "(59212, 88)"
      ]
     },
     "execution_count": 85,
     "metadata": {},
     "output_type": "execute_result"
    }
   ],
   "source": [
    "vuelos[vuelos.PRCP_d==9999.0].shape"
   ]
  },
  {
   "cell_type": "code",
   "execution_count": 86,
   "metadata": {},
   "outputs": [
    {
     "data": {
      "text/plain": [
       "(209910, 88)"
      ]
     },
     "execution_count": 86,
     "metadata": {},
     "output_type": "execute_result"
    }
   ],
   "source": [
    "vuelos[vuelos.SNWD_o==9999.0].shape"
   ]
  },
  {
   "cell_type": "code",
   "execution_count": 87,
   "metadata": {},
   "outputs": [
    {
     "data": {
      "text/plain": [
       "(210240, 88)"
      ]
     },
     "execution_count": 87,
     "metadata": {},
     "output_type": "execute_result"
    }
   ],
   "source": [
    "vuelos[vuelos.SNWD_d==9999.0].shape"
   ]
  },
  {
   "cell_type": "code",
   "execution_count": 88,
   "metadata": {},
   "outputs": [
    {
     "data": {
      "text/plain": [
       "(212698, 88)"
      ]
     },
     "execution_count": 88,
     "metadata": {},
     "output_type": "execute_result"
    }
   ],
   "source": [
    "vuelos[vuelos.ACMC_o==9999.0].shape"
   ]
  },
  {
   "cell_type": "code",
   "execution_count": 89,
   "metadata": {},
   "outputs": [
    {
     "data": {
      "text/plain": [
       "(212698, 88)"
      ]
     },
     "execution_count": 89,
     "metadata": {},
     "output_type": "execute_result"
    }
   ],
   "source": [
    "vuelos[vuelos.ACMC_d==9999.0].shape"
   ]
  },
  {
   "cell_type": "code",
   "execution_count": 90,
   "metadata": {},
   "outputs": [
    {
     "data": {
      "text/plain": [
       "(212698, 88)"
      ]
     },
     "execution_count": 90,
     "metadata": {},
     "output_type": "execute_result"
    }
   ],
   "source": [
    "vuelos[vuelos.ACSC_o==9999.0].shape"
   ]
  },
  {
   "cell_type": "code",
   "execution_count": 91,
   "metadata": {},
   "outputs": [
    {
     "data": {
      "text/plain": [
       "(212698, 88)"
      ]
     },
     "execution_count": 91,
     "metadata": {},
     "output_type": "execute_result"
    }
   ],
   "source": [
    "vuelos[vuelos.ACSC_d==9999.0].shape"
   ]
  },
  {
   "cell_type": "code",
   "execution_count": 92,
   "metadata": {},
   "outputs": [
    {
     "data": {
      "text/plain": [
       "(212698, 88)"
      ]
     },
     "execution_count": 92,
     "metadata": {},
     "output_type": "execute_result"
    }
   ],
   "source": [
    "vuelos[vuelos.AWDR_o==9999.0].shape"
   ]
  },
  {
   "cell_type": "code",
   "execution_count": 93,
   "metadata": {},
   "outputs": [
    {
     "data": {
      "text/plain": [
       "(212698, 88)"
      ]
     },
     "execution_count": 93,
     "metadata": {},
     "output_type": "execute_result"
    }
   ],
   "source": [
    "vuelos[vuelos.AWDR_d==9999.0].shape"
   ]
  },
  {
   "cell_type": "code",
   "execution_count": 94,
   "metadata": {},
   "outputs": [
    {
     "data": {
      "text/plain": [
       "(212687, 88)"
      ]
     },
     "execution_count": 94,
     "metadata": {},
     "output_type": "execute_result"
    }
   ],
   "source": [
    "vuelos[vuelos.AWND_o==9999.0].shape"
   ]
  },
  {
   "cell_type": "code",
   "execution_count": 95,
   "metadata": {},
   "outputs": [
    {
     "data": {
      "text/plain": [
       "(212691, 88)"
      ]
     },
     "execution_count": 95,
     "metadata": {},
     "output_type": "execute_result"
    }
   ],
   "source": [
    "vuelos[vuelos.AWND_d==9999.0].shape"
   ]
  },
  {
   "cell_type": "code",
   "execution_count": 96,
   "metadata": {},
   "outputs": [
    {
     "data": {
      "text/plain": [
       "(212698, 88)"
      ]
     },
     "execution_count": 96,
     "metadata": {},
     "output_type": "execute_result"
    }
   ],
   "source": [
    "vuelos[vuelos.EVAP_o==9999.0].shape"
   ]
  },
  {
   "cell_type": "code",
   "execution_count": 97,
   "metadata": {},
   "outputs": [
    {
     "data": {
      "text/plain": [
       "(212698, 88)"
      ]
     },
     "execution_count": 97,
     "metadata": {},
     "output_type": "execute_result"
    }
   ],
   "source": [
    "vuelos[vuelos.EVAP_d==9999.0].shape"
   ]
  },
  {
   "cell_type": "code",
   "execution_count": 98,
   "metadata": {},
   "outputs": [
    {
     "data": {
      "text/plain": [
       "(212698, 88)"
      ]
     },
     "execution_count": 98,
     "metadata": {},
     "output_type": "execute_result"
    }
   ],
   "source": [
    "vuelos[vuelos.FRTH_o==9999.0].shape"
   ]
  },
  {
   "cell_type": "code",
   "execution_count": 99,
   "metadata": {},
   "outputs": [
    {
     "data": {
      "text/plain": [
       "(212698, 88)"
      ]
     },
     "execution_count": 99,
     "metadata": {},
     "output_type": "execute_result"
    }
   ],
   "source": [
    "vuelos[vuelos.FRTH_d==9999.0].shape"
   ]
  },
  {
   "cell_type": "code",
   "execution_count": 100,
   "metadata": {},
   "outputs": [
    {
     "data": {
      "text/plain": [
       "(212698, 88)"
      ]
     },
     "execution_count": 100,
     "metadata": {},
     "output_type": "execute_result"
    }
   ],
   "source": [
    "vuelos[vuelos.TSUN_o==9999.0].shape"
   ]
  },
  {
   "cell_type": "code",
   "execution_count": 101,
   "metadata": {},
   "outputs": [
    {
     "data": {
      "text/plain": [
       "(212698, 88)"
      ]
     },
     "execution_count": 101,
     "metadata": {},
     "output_type": "execute_result"
    }
   ],
   "source": [
    "vuelos[vuelos.TSUN_d==9999.0].shape"
   ]
  },
  {
   "cell_type": "code",
   "execution_count": 102,
   "metadata": {},
   "outputs": [
    {
     "data": {
      "text/plain": [
       "(212698, 88)"
      ]
     },
     "execution_count": 102,
     "metadata": {},
     "output_type": "execute_result"
    }
   ],
   "source": [
    "vuelos[vuelos.WDMV_o==9999.0].shape"
   ]
  },
  {
   "cell_type": "code",
   "execution_count": 38,
   "metadata": {},
   "outputs": [
    {
     "data": {
      "text/plain": [
       "(212698, 88)"
      ]
     },
     "execution_count": 38,
     "metadata": {},
     "output_type": "execute_result"
    }
   ],
   "source": [
    "vuelos[vuelos.WDMV_d==9999.0].shape"
   ]
  },
  {
   "cell_type": "code",
   "execution_count": 150,
   "metadata": {
    "collapsed": true
   },
   "outputs": [],
   "source": [
    "#todas las estaciones\n",
    "stationsdf.to_csv('stationsAll.csv',sep=',', index=False)"
   ]
  },
  {
   "cell_type": "code",
   "execution_count": 151,
   "metadata": {
    "collapsed": true
   },
   "outputs": [],
   "source": [
    "stationsTAVG =  weatherdf[weatherdf[\"type\"]==\"TAVG\"]\n",
    "stationsTAVG = stationsTAVG.sort_values(by=['id'])\n",
    "vuelosSinTAVG_o = vuelos[vuelos.TAVG_o==9999.0]"
   ]
  },
  {
   "cell_type": "code",
   "execution_count": 152,
   "metadata": {},
   "outputs": [
    {
     "data": {
      "text/plain": [
       "(5740, 88)"
      ]
     },
     "execution_count": 152,
     "metadata": {},
     "output_type": "execute_result"
    }
   ],
   "source": [
    "vuelos[vuelos.TAVG_o==9999.0].shape"
   ]
  },
  {
   "cell_type": "code",
   "execution_count": null,
   "metadata": {
    "collapsed": true
   },
   "outputs": [],
   "source": []
  },
  {
   "cell_type": "code",
   "execution_count": 153,
   "metadata": {},
   "outputs": [
    {
     "data": {
      "text/plain": [
       "(5740, 88)"
      ]
     },
     "execution_count": 153,
     "metadata": {},
     "output_type": "execute_result"
    }
   ],
   "source": [
    "vuelos.to_csv('vuelos.csv', sep=',', index=False)\n",
    "vuelosSinTAVG_o = vuelos[vuelos.TAVG_o==9999.0]\n",
    "vuelosSinTAVG_o.shape"
   ]
  },
  {
   "cell_type": "code",
   "execution_count": 154,
   "metadata": {
    "collapsed": true
   },
   "outputs": [],
   "source": [
    "def functionGest(year, month, day):\n",
    "    start = time.time()\n",
    "    vuelosSinTratar = vuelos[vuelos.TAVG_o==9999.0]\n",
    "     \n",
    "    x = vuelosSinTratar[vuelosSinTratar['anyoSalida']==year]\n",
    "    x = x[x['mesSalida']==month]\n",
    "    x = x[x['diaSalida']==day]\n",
    "    x = x.apply(lambda x:obtenerTAVG_o2(x),axis = 1)\n",
    "    pd.options.mode.chained_assignment = None  # default='warn'\n",
    "    vuelosSinTratar['TAVG_o'] = x.set_index(['index'])['TAVG_o'].combine_first(vuelosSinTratar.set_index(['index'])['TAVG_o']).values\n",
    "    vuelos['TAVG_o'] = vuelosSinTratar.set_index(['index'])['TAVG_o'].combine_first(vuelos.set_index(['index'])['TAVG_o']).values\n",
    "\n",
    "    \n",
    "    #vuelos.to_csv('vuelos.csv', sep=',', index=False)\n",
    "    end = time.time()\n",
    "    print(end - start)\n",
    "\n",
    "\n",
    "def getLatstation(row):\n",
    "    row['lat'] = stationsdf[stationsdf['id']==row['id']]['lat'].values[0]\n",
    "    row['lng'] = stationsdf[stationsdf['id']==row['id']]['lng'].values[0]\n",
    "    return row\n",
    "\n",
    "\n",
    "def obtenerEstacionBoard(row):\n",
    "    lat = row['board_lat']\n",
    "    lon = row['board_lon']\n",
    "    coor = [lat,lon]\n",
    "    EMC= closest(np.asarray(lista), coor)\n",
    "    EMC[0] = round(EMC[0],3)\n",
    "    EMC[1] = round(EMC[1],3)\n",
    "    ##obtenemos el id de la estacion de board\n",
    "    aux = stationsdf[(stationsdf.lat==EMC[0])|(stationsdf.lng==EMC[1])]\n",
    "    EMC = aux['id']\n",
    "    s = EMC.to_string()\n",
    "    stationid = str(s)\n",
    "    row['stationid'] = stationid.split()[1]\n",
    "    return row\n",
    "\n",
    "\n",
    "def aplicarEstacionesOrigen(row):\n",
    "    row['board_stationid_o'] = coordenadasOrigen[(coordenadasOrigen.board_lat == row['board_lat'])&(coordenadasOrigen.board_lon == row['board_lon'])]['stationid'].values[0]\n",
    "    return row\n",
    "\n",
    "def obtenerEstacionOff(row):\n",
    "    lat = row['off_lat']\n",
    "    lon = row['off_lon']\n",
    "    coor = [lat,lon]\n",
    "    EMC= closest(np.asarray(lista), coor)\n",
    "    EMC[0] = round(EMC[0],3)\n",
    "    EMC[1] = round(EMC[1],3)\n",
    "    ##obtenemos el id de la estacion de board\n",
    "    aux = stationsdf[(stationsdf.lat==EMC[0])|(stationsdf.lng==EMC[1])]\n",
    "    EMC = aux['id']\n",
    "    s = EMC.to_string()\n",
    "    stationid = str(s)\n",
    "    row['stationid'] = stationid.split()[1]\n",
    "    return row\n",
    "\n",
    "def aplicarEstacionesDestino(row):\n",
    "    row['off_stationid_d'] = coordenadasDestino[(coordenadasDestino.off_lat == row['off_lat'])&(coordenadasDestino.off_lon == row['off_lon'])]['stationid'].values[0]\n",
    "    return row\n",
    "\n",
    "def roundF(row):\n",
    "    row['lat'] = round(row['lat'],3)\n",
    "    \n",
    "    return row\n",
    "\n",
    "def roundFF(row):\n",
    "    row['lng'] = round(row['lng'],3)\n",
    "    return row\n",
    "\n",
    "def obtenerTAVG_o2(row):\n",
    "    board_station = row['board_stationid_o']\n",
    "    fechaAux = tratarFecha(row['actual_time_of_departure'])\n",
    "    x = stationsTAVG[stationsTAVG.date == fechaAux]\n",
    "    if x.empty:\n",
    "        pass\n",
    "    else:\n",
    "        x= x[x.id == board_station]\n",
    "        if x.empty:\n",
    "            pass\n",
    "        else:\n",
    "            row['TAVG_o'] = float(x.Value1.values[0])/10\n",
    "\n",
    "        \n",
    "    del x\n",
    "    return row"
   ]
  },
  {
   "cell_type": "code",
   "execution_count": 155,
   "metadata": {},
   "outputs": [],
   "source": [
    "if year=='2017':\n",
    "    if os.path.exists('listaTAVG2017.csv'):\n",
    "        lista = pd.read_csv('listaTAVG2017.csv',sep = ',')\n",
    "        del lista['id']\n",
    "    else:\n",
    "        lista = stationsTAVG['id'].unique()\n",
    "        lista = pd.DataFrame(lista)\n",
    "        lista.columns = ['id']\n",
    "        lista = lista.apply(lambda x:getLatstation(x),axis=1)\n",
    "        lista.to_csv('listaTAVG2017.csv', sep=',', index=False)\n",
    "        del lista['id']\n",
    "if year=='2016':\n",
    "    if os.path.exists('listaTAVG2016.csv'):\n",
    "        lista = pd.read_csv('listaTAVG2016.csv',sep = ',')\n",
    "        del lista['id']        \n",
    "    else:\n",
    "        lista = stationsTAVG['id'].unique()\n",
    "        lista = pd.DataFrame(lista)\n",
    "        lista.columns = ['id']\n",
    "        lista = lista.apply(lambda x:getLatstation(x),axis=1)\n",
    "        lista.to_csv('listaTAVG2016.csv', sep=',', index=False)\n",
    "        del lista['id']\n",
    "if year=='2015':\n",
    "    if os.path.exists('listaTAVG2015.csv'):\n",
    "        lista = pd.read_csv('listaTAVG2015.csv',sep = ',')\n",
    "        del lista['id']\n",
    "    else:\n",
    "        lista = stationsTAVG['id'].unique()\n",
    "        lista = pd.DataFrame(lista)\n",
    "        lista.columns = ['id']\n",
    "        lista = lista.apply(lambda x:getLatstation(x),axis=1)\n",
    "        lista.to_csv('listaTAVG2015.csv', sep=',', index=False)\n",
    "        del lista['id']\n",
    "        \n",
    "if year=='2014':\n",
    "    if os.path.exists('listaTAVG2014.csv'):\n",
    "        lista = pd.read_csv('listaTAVG2014.csv',sep = ',')\n",
    "        del lista['id']\n",
    "    else:\n",
    "        lista = stationsTAVG['id'].unique()\n",
    "        lista = pd.DataFrame(lista)\n",
    "        lista.columns = ['id']\n",
    "        lista = lista.apply(lambda x:getLatstation(x),axis=1)\n",
    "        lista.to_csv('listaTAVG2014.csv', sep=',', index=False)\n",
    "        del lista['id']      \n",
    "if year=='2013':\n",
    "    if os.path.exists('listaTAVG2013.csv'):\n",
    "        lista = pd.read_csv('listaTAVG2013.csv',sep = ',')\n",
    "        del lista['id']          \n",
    "    else:\n",
    "        lista = stationsTAVG['id'].unique()\n",
    "        lista = pd.DataFrame(lista)\n",
    "        lista.columns = ['id']\n",
    "        lista = lista.apply(lambda x:getLatstation(x),axis=1)\n",
    "        lista.to_csv('listaTAVG2013.csv', sep=',', index=False)\n",
    "        del lista['id']      \n",
    "if year=='2012':\n",
    "    if os.path.exists('listaTAVG2012.csv'):\n",
    "        lista = pd.read_csv('listaTAVG2012.csv',sep = ',')\n",
    "        del lista['id']\n",
    "    else:\n",
    "        lista = stationsTAVG['id'].unique()\n",
    "        lista = pd.DataFrame(lista)\n",
    "        lista.columns = ['id']\n",
    "        lista = lista.apply(lambda x:getLatstation(x),axis=1)\n",
    "        lista.to_csv('listaTAVG2012.csv', sep=',', index=False)\n",
    "        del lista['id']        \n",
    "if year=='2011':\n",
    "    if os.path.exists('listaTAVG2011.csv'):\n",
    "        lista = pd.read_csv('listaTAVG2011.csv',sep = ',')\n",
    "        del lista['id']\n",
    "    else:\n",
    "        lista = stationsTAVG['id'].unique()\n",
    "        lista = pd.DataFrame(lista)\n",
    "        lista.columns = ['id']\n",
    "        lista = lista.apply(lambda x:getLatstation(x),axis=1)\n",
    "        lista.to_csv('listaTAVG2011.csv', sep=',', index=False)\n",
    "        del lista['id']  "
   ]
  },
  {
   "cell_type": "code",
   "execution_count": 156,
   "metadata": {
    "collapsed": true
   },
   "outputs": [],
   "source": [
    "if 'off_stationid_d' in vuelos:\n",
    "    pass\n",
    "else:\n",
    "    stationsdf = stationsdf.apply(lambda x: roundF(x),axis = 1)\n",
    "    stationsdf = stationsdf.apply(lambda x: roundFF(x),axis = 1)\n",
    "\n",
    "    coordenadasOrigen = vuelos[['board_lat','board_lon']]\n",
    "    coordenadasDestino = vuelos[['off_lat','off_lon']]\n",
    "    coordenadasOrigen = coordenadasOrigen.drop_duplicates(subset=['board_lat', 'board_lon'])\n",
    "    coordenadasDestino = coordenadasDestino.drop_duplicates(subset=['off_lat', 'off_lon'])\n",
    "    coordenadasOrigen = coordenadasOrigen.apply(lambda x:obtenerEstacionBoard(x),axis = 1)\n",
    "    coordenadasDestino = coordenadasDestino.apply(lambda x:obtenerEstacionOff(x),axis = 1)\n",
    "    vuelos = vuelos.apply(lambda x: aplicarEstacionesOrigen(x),axis = 1)\n",
    "    vuelos = vuelos.apply(lambda x: aplicarEstacionesDestino(x),axis = 1)"
   ]
  },
  {
   "cell_type": "code",
   "execution_count": 157,
   "metadata": {},
   "outputs": [
    {
     "name": "stdout",
     "output_type": "stream",
     "text": [
      "empiezo el mes 1\n",
      "empiezo el dia -  1\n",
      "0.213000059128\n",
      "empiezo el dia -  2\n",
      "0.1859998703\n",
      "empiezo el dia -  3\n",
      "0.188999891281\n",
      "empiezo el dia -  4\n",
      "0.184000015259\n",
      "empiezo el dia -  5\n",
      "0.18700003624\n",
      "empiezo el dia -  6\n",
      "0.215000152588\n",
      "empiezo el dia -  7\n",
      "0.184000015259\n",
      "empiezo el dia -  8\n",
      "0.1859998703\n",
      "empiezo el dia -  9\n",
      "0.188999891281\n",
      "empiezo el dia -  10\n",
      "0.177999973297\n",
      "empiezo el dia -  11\n",
      "0.223999977112\n",
      "empiezo el dia -  12\n",
      "0.204999923706\n",
      "empiezo el dia -  13\n",
      "0.194999933243\n",
      "empiezo el dia -  14\n",
      "0.181999921799\n",
      "empiezo el dia -  15\n",
      "0.234999895096\n",
      "empiezo el dia -  16\n",
      "0.182999849319\n",
      "empiezo el dia -  17\n",
      "0.18799996376\n",
      "empiezo el dia -  18\n",
      "0.182999849319\n",
      "empiezo el dia -  19\n",
      "0.1859998703\n",
      "empiezo el dia -  20\n",
      "0.181999921799\n",
      "empiezo el dia -  21\n",
      "0.186000108719\n",
      "empiezo el dia -  22\n",
      "0.192000150681\n",
      "empiezo el dia -  23\n",
      "0.18499994278\n",
      "empiezo el dia -  24\n",
      "0.233000040054\n",
      "empiezo el dia -  25\n",
      "0.183000087738\n",
      "empiezo el dia -  26\n",
      "0.184000015259\n",
      "empiezo el dia -  27\n",
      "0.186000108719\n",
      "empiezo el dia -  28\n",
      "0.185000181198\n",
      "empiezo el dia -  29\n",
      "0.183000087738\n",
      "empiezo el dia -  30\n",
      "0.185000181198\n",
      "empiezo el dia -  31\n",
      "0.182000160217\n",
      "empiezo el mes 2\n",
      "empiezo el dia -  1\n",
      "0.1890001297\n",
      "empiezo el dia -  2\n",
      "0.230999946594\n",
      "empiezo el dia -  3\n",
      "0.18499994278\n",
      "empiezo el dia -  4\n",
      "0.18700003624\n",
      "empiezo el dia -  5\n",
      "0.182000160217\n",
      "empiezo el dia -  6\n",
      "0.19000005722\n",
      "empiezo el dia -  7\n",
      "0.181999921799\n",
      "empiezo el dia -  8\n",
      "0.1859998703\n",
      "empiezo el dia -  9\n",
      "0.181999921799\n",
      "empiezo el dia -  10\n",
      "0.18700003624\n",
      "empiezo el dia -  11\n",
      "0.233999967575\n",
      "empiezo el dia -  12\n",
      "0.18799996376\n",
      "empiezo el dia -  13\n",
      "0.186000108719\n",
      "empiezo el dia -  14\n",
      "0.183000087738\n",
      "empiezo el dia -  15\n",
      "0.18700003624\n",
      "empiezo el dia -  16\n",
      "0.184000015259\n",
      "empiezo el dia -  17\n",
      "0.188000202179\n",
      "empiezo el dia -  18\n",
      "0.182000160217\n",
      "empiezo el dia -  19\n",
      "0.184000015259\n",
      "empiezo el dia -  20\n",
      "0.233999967575\n",
      "empiezo el dia -  21\n",
      "0.185000181198\n",
      "empiezo el dia -  22\n",
      "0.192000150681\n",
      "empiezo el dia -  23\n",
      "0.18799996376\n",
      "empiezo el dia -  24\n",
      "0.194000005722\n",
      "empiezo el dia -  25\n",
      "0.1890001297\n",
      "empiezo el dia -  26\n",
      "0.210999965668\n",
      "empiezo el dia -  27\n",
      "0.191999912262\n",
      "empiezo el dia -  28\n",
      "0.18700003624\n",
      "empiezo el dia -  29\n",
      "0.230999946594\n",
      "empiezo el dia -  30\n",
      "0.184000015259\n",
      "empiezo el dia -  31\n",
      "0.184000015259\n",
      "empiezo el mes 3\n",
      "empiezo el dia -  1\n",
      "0.183000087738\n",
      "empiezo el dia -  2\n",
      "0.18700003624\n",
      "empiezo el dia -  3\n",
      "0.181999921799\n",
      "empiezo el dia -  4\n",
      "0.182999849319\n",
      "empiezo el dia -  5\n",
      "0.181999921799\n",
      "empiezo el dia -  6\n",
      "0.18499994278\n",
      "empiezo el dia -  7\n",
      "0.24799990654\n",
      "empiezo el dia -  8\n",
      "0.18499994278\n",
      "empiezo el dia -  9\n",
      "0.191999912262\n",
      "empiezo el dia -  10\n",
      "0.1859998703\n",
      "empiezo el dia -  11\n",
      "0.194000005722\n",
      "empiezo el dia -  12\n",
      "0.183000087738\n",
      "empiezo el dia -  13\n",
      "0.190999984741\n",
      "empiezo el dia -  14\n",
      "0.182000160217\n",
      "empiezo el dia -  15\n",
      "0.186000108719\n",
      "empiezo el dia -  16\n",
      "0.234000205994\n",
      "empiezo el dia -  17\n",
      "0.18499994278\n",
      "empiezo el dia -  18\n",
      "0.18499994278\n",
      "empiezo el dia -  19\n",
      "0.182999849319\n",
      "empiezo el dia -  20\n",
      "0.186000108719\n",
      "empiezo el dia -  21\n",
      "0.180999994278\n",
      "empiezo el dia -  22\n",
      "0.18499994278\n",
      "empiezo el dia -  23\n",
      "0.181999921799\n",
      "empiezo el dia -  24\n",
      "0.1859998703\n",
      "empiezo el dia -  25\n",
      "0.233000040054\n",
      "empiezo el dia -  26\n",
      "0.184000015259\n",
      "empiezo el dia -  27\n",
      "0.1859998703\n",
      "empiezo el dia -  28\n",
      "0.181999921799\n",
      "empiezo el dia -  29\n",
      "0.184000015259\n",
      "empiezo el dia -  30\n",
      "0.183000087738\n",
      "empiezo el dia -  31\n",
      "0.1859998703\n",
      "empiezo el mes 4\n",
      "empiezo el dia -  1\n",
      "0.184000015259\n",
      "empiezo el dia -  2\n",
      "0.185000181198\n",
      "empiezo el dia -  3\n",
      "0.230999946594\n",
      "empiezo el dia -  4\n",
      "0.184000015259\n",
      "empiezo el dia -  5\n",
      "0.186999797821\n",
      "empiezo el dia -  6\n",
      "0.186000108719\n",
      "empiezo el dia -  7\n",
      "0.184000015259\n",
      "empiezo el dia -  8\n",
      "0.182999849319\n",
      "empiezo el dia -  9\n",
      "0.186000108719\n",
      "empiezo el dia -  10\n",
      "0.184000015259\n",
      "empiezo el dia -  11\n",
      "0.18700003624\n",
      "empiezo el dia -  12\n",
      "0.239000082016\n",
      "empiezo el dia -  13\n",
      "0.184000015259\n",
      "empiezo el dia -  14\n",
      "0.184000015259\n",
      "empiezo el dia -  15\n",
      "0.184000015259\n",
      "empiezo el dia -  16\n",
      "0.1859998703\n",
      "empiezo el dia -  17\n",
      "0.184000015259\n",
      "empiezo el dia -  18\n",
      "0.185000181198\n",
      "empiezo el dia -  19\n",
      "0.182000160217\n",
      "empiezo el dia -  20\n",
      "0.18499994278\n",
      "empiezo el dia -  21\n",
      "0.236000061035\n",
      "empiezo el dia -  22\n",
      "0.185000181198\n",
      "empiezo el dia -  23\n",
      "0.18499994278\n",
      "empiezo el dia -  24\n",
      "0.182999849319\n",
      "empiezo el dia -  25\n",
      "0.186000108719\n",
      "empiezo el dia -  26\n",
      "0.18499994278\n",
      "empiezo el dia -  27\n",
      "0.189999818802\n",
      "empiezo el dia -  28\n",
      "0.181999921799\n",
      "empiezo el dia -  29\n",
      "0.18499994278\n",
      "empiezo el dia -  30\n",
      "0.230999946594\n",
      "empiezo el dia -  31\n",
      "0.184000015259\n",
      "empiezo el mes 5\n",
      "empiezo el dia -  1\n",
      "0.18399977684\n",
      "empiezo el dia -  2\n",
      "0.181999921799\n",
      "empiezo el dia -  3\n",
      "0.186000108719\n",
      "empiezo el dia -  4\n",
      "0.183000087738\n",
      "empiezo el dia -  5\n",
      "0.184000015259\n",
      "empiezo el dia -  6\n",
      "0.181999921799\n",
      "empiezo el dia -  7\n",
      "0.18499994278\n",
      "empiezo el dia -  8\n",
      "0.233999967575\n",
      "empiezo el dia -  9\n",
      "0.18499994278\n",
      "empiezo el dia -  10\n",
      "0.184000015259\n",
      "empiezo el dia -  11\n",
      "0.183000087738\n",
      "empiezo el dia -  12\n",
      "0.18700003624\n",
      "empiezo el dia -  13\n",
      "0.182999849319\n",
      "empiezo el dia -  14\n",
      "0.184000015259\n",
      "empiezo el dia -  15\n",
      "0.183000087738\n",
      "empiezo el dia -  16\n",
      "0.18499994278\n",
      "empiezo el dia -  17\n",
      "0.233000040054\n",
      "empiezo el dia -  18\n",
      "0.184000015259\n",
      "empiezo el dia -  19\n",
      "0.184000015259\n",
      "empiezo el dia -  20\n",
      "0.181999921799\n",
      "empiezo el dia -  21\n",
      "0.183000087738\n",
      "empiezo el dia -  22\n",
      "0.184000015259\n",
      "empiezo el dia -  23\n",
      "0.182999849319\n",
      "empiezo el dia -  24\n",
      "0.1859998703\n",
      "empiezo el dia -  25\n",
      "0.18499994278\n",
      "empiezo el dia -  26\n",
      "0.233999967575\n",
      "empiezo el dia -  27\n",
      "0.182999849319\n",
      "empiezo el dia -  28\n",
      "0.18700003624\n",
      "empiezo el dia -  29\n",
      "0.183000087738\n",
      "empiezo el dia -  30\n",
      "0.184000015259\n",
      "empiezo el dia -  31\n",
      "0.182000160217\n",
      "empiezo el mes 6\n",
      "empiezo el dia -  1\n",
      "0.186000108719\n",
      "empiezo el dia -  2\n",
      "0.184000015259\n",
      "empiezo el dia -  3\n",
      "0.1859998703\n",
      "empiezo el dia -  4\n",
      "0.231999874115\n",
      "empiezo el dia -  5\n",
      "0.183000087738\n",
      "empiezo el dia -  6\n",
      "0.185000181198\n",
      "empiezo el dia -  7\n",
      "0.184000015259\n",
      "empiezo el dia -  8\n",
      "0.18499994278\n",
      "empiezo el dia -  9\n",
      "0.180999994278\n",
      "empiezo el dia -  10\n",
      "0.186000108719\n",
      "empiezo el dia -  11\n",
      "0.184000015259\n",
      "empiezo el dia -  12\n",
      "0.1859998703\n",
      "empiezo el dia -  13\n",
      "0.233000040054\n",
      "empiezo el dia -  14\n",
      "0.183000087738\n",
      "empiezo el dia -  15\n",
      "0.18700003624\n",
      "empiezo el dia -  16\n",
      "0.18700003624\n",
      "empiezo el dia -  17\n",
      "0.1859998703\n",
      "empiezo el dia -  18\n",
      "0.181999921799\n",
      "empiezo el dia -  19\n",
      "0.1859998703\n",
      "empiezo el dia -  20\n",
      "0.183000087738\n",
      "empiezo el dia -  21\n",
      "0.18799996376\n",
      "empiezo el dia -  22\n",
      "0.233000040054\n",
      "empiezo el dia -  23\n",
      "0.18700003624\n",
      "empiezo el dia -  24\n",
      "0.18700003624\n",
      "empiezo el dia -  25\n",
      "0.183000087738\n",
      "empiezo el dia -  26\n",
      "0.18700003624\n",
      "empiezo el dia -  27\n",
      "0.181999921799\n",
      "empiezo el dia -  28\n",
      "0.18499994278\n",
      "empiezo el dia -  29\n",
      "0.182999849319\n",
      "empiezo el dia -  30\n",
      "0.186000108719\n",
      "empiezo el dia -  31\n",
      "0.235000133514\n",
      "empiezo el mes 7\n",
      "empiezo el dia -  1\n",
      "0.186000108719\n",
      "empiezo el dia -  2\n",
      "0.186000108719\n",
      "empiezo el dia -  3\n",
      "0.182000160217\n",
      "empiezo el dia -  4\n",
      "0.18700003624\n",
      "empiezo el dia -  5\n",
      "0.182999849319\n",
      "empiezo el dia -  6\n",
      "0.186000108719\n",
      "empiezo el dia -  7\n",
      "0.1890001297\n",
      "empiezo el dia -  8\n",
      "0.184000015259\n",
      "empiezo el dia -  9\n",
      "0.230999946594\n",
      "empiezo el dia -  10\n",
      "0.184000015259\n",
      "empiezo el dia -  11\n",
      "0.18799996376\n",
      "empiezo el dia -  12\n",
      "0.184000015259\n",
      "empiezo el dia -  13\n",
      "0.184000015259\n",
      "empiezo el dia -  14\n",
      "0.182999849319\n",
      "empiezo el dia -  15\n",
      "0.184000015259\n",
      "empiezo el dia -  16\n",
      "0.182999849319\n",
      "empiezo el dia -  17\n",
      "0.18499994278\n",
      "empiezo el dia -  18\n",
      "0.238000154495\n",
      "empiezo el dia -  19\n",
      "0.184000015259\n",
      "empiezo el dia -  20\n",
      "0.1859998703\n",
      "empiezo el dia -  21\n",
      "0.181999921799\n",
      "empiezo el dia -  22\n",
      "0.1859998703\n",
      "empiezo el dia -  23\n",
      "0.184000015259\n",
      "empiezo el dia -  24\n",
      "0.186000108719\n",
      "empiezo el dia -  25\n",
      "0.182000160217\n",
      "empiezo el dia -  26\n",
      "0.183000087738\n",
      "empiezo el dia -  27\n",
      "0.230999946594\n",
      "empiezo el dia -  28\n",
      "0.184000015259\n",
      "empiezo el dia -  29\n",
      "0.18499994278\n",
      "empiezo el dia -  30\n",
      "0.183000087738\n",
      "empiezo el dia -  31\n",
      "0.18499994278\n",
      "empiezo el mes 8\n",
      "empiezo el dia -  1\n",
      "0.180999994278\n",
      "empiezo el dia -  2\n",
      "0.18499994278\n",
      "empiezo el dia -  3\n",
      "0.182000160217\n",
      "empiezo el dia -  4\n",
      "0.1890001297\n",
      "empiezo el dia -  5\n",
      "0.229000091553\n",
      "empiezo el dia -  6\n",
      "0.184000015259\n",
      "empiezo el dia -  7\n",
      "0.186000108719\n",
      "empiezo el dia -  8\n",
      "0.182000160217\n",
      "empiezo el dia -  9\n",
      "0.185000181198\n",
      "empiezo el dia -  10\n",
      "0.180999994278\n",
      "empiezo el dia -  11\n",
      "0.18499994278\n",
      "empiezo el dia -  12\n",
      "0.182999849319\n",
      "empiezo el dia -  13\n"
     ]
    },
    {
     "name": "stdout",
     "output_type": "stream",
     "text": [
      "0.1859998703\n",
      "empiezo el dia -  14\n",
      "0.230999946594\n",
      "empiezo el dia -  15\n",
      "0.186000108719\n",
      "empiezo el dia -  16\n",
      "0.186000108719\n",
      "empiezo el dia -  17\n",
      "0.182000160217\n",
      "empiezo el dia -  18\n",
      "0.186000108719\n",
      "empiezo el dia -  19\n",
      "0.181999921799\n",
      "empiezo el dia -  20\n",
      "0.183000087738\n",
      "empiezo el dia -  21\n",
      "0.183000087738\n",
      "empiezo el dia -  22\n",
      "0.183000087738\n",
      "empiezo el dia -  23\n",
      "0.237999916077\n",
      "empiezo el dia -  24\n",
      "0.182999849319\n",
      "empiezo el dia -  25\n",
      "0.18499994278\n",
      "empiezo el dia -  26\n",
      "0.184000015259\n",
      "empiezo el dia -  27\n",
      "0.186000108719\n",
      "empiezo el dia -  28\n",
      "0.18799996376\n",
      "empiezo el dia -  29\n",
      "0.184000015259\n",
      "empiezo el dia -  30\n",
      "0.180999994278\n",
      "empiezo el dia -  31\n",
      "0.18700003624\n",
      "empiezo el mes 9\n",
      "empiezo el dia -  1\n",
      "0.231999874115\n",
      "empiezo el dia -  2\n",
      "0.183000087738\n",
      "empiezo el dia -  3\n",
      "0.183000087738\n",
      "empiezo el dia -  4\n",
      "0.182000160217\n",
      "empiezo el dia -  5\n",
      "0.185000181198\n",
      "empiezo el dia -  6\n",
      "0.181999921799\n",
      "empiezo el dia -  7\n",
      "0.184000015259\n",
      "empiezo el dia -  8\n",
      "0.184000015259\n",
      "empiezo el dia -  9\n",
      "0.184000015259\n",
      "empiezo el dia -  10\n",
      "0.234999895096\n",
      "empiezo el dia -  11\n",
      "0.182999849319\n",
      "empiezo el dia -  12\n",
      "0.18499994278\n",
      "empiezo el dia -  13\n",
      "0.181999921799\n",
      "empiezo el dia -  14\n",
      "0.182999849319\n",
      "empiezo el dia -  15\n",
      "0.180999994278\n",
      "empiezo el dia -  16\n",
      "0.184000015259\n",
      "empiezo el dia -  17\n",
      "0.180999994278\n",
      "empiezo el dia -  18\n",
      "0.1859998703\n",
      "empiezo el dia -  19\n",
      "0.234999895096\n",
      "empiezo el dia -  20\n",
      "0.18499994278\n",
      "empiezo el dia -  21\n",
      "0.1859998703\n",
      "empiezo el dia -  22\n",
      "0.184000015259\n",
      "empiezo el dia -  23\n",
      "0.185000181198\n",
      "empiezo el dia -  24\n",
      "0.183000087738\n",
      "empiezo el dia -  25\n",
      "0.186000108719\n",
      "empiezo el dia -  26\n",
      "0.1859998703\n",
      "empiezo el dia -  27\n",
      "0.184000015259\n",
      "empiezo el dia -  28\n",
      "0.232000112534\n",
      "empiezo el dia -  29\n",
      "0.186000108719\n",
      "empiezo el dia -  30\n",
      "0.186000108719\n",
      "empiezo el dia -  31\n",
      "0.184000015259\n",
      "empiezo el mes 10\n",
      "empiezo el dia -  1\n",
      "0.186000108719\n",
      "empiezo el dia -  2\n",
      "0.183000087738\n",
      "empiezo el dia -  3\n",
      "0.18799996376\n",
      "empiezo el dia -  4\n",
      "0.184000015259\n",
      "empiezo el dia -  5\n",
      "0.1859998703\n",
      "empiezo el dia -  6\n",
      "0.233000040054\n",
      "empiezo el dia -  7\n",
      "0.183000087738\n",
      "empiezo el dia -  8\n",
      "0.18700003624\n",
      "empiezo el dia -  9\n",
      "0.183000087738\n",
      "empiezo el dia -  10\n",
      "0.185000181198\n",
      "empiezo el dia -  11\n",
      "0.184000015259\n",
      "empiezo el dia -  12\n",
      "0.1859998703\n",
      "empiezo el dia -  13\n",
      "0.191999912262\n",
      "empiezo el dia -  14\n",
      "0.190999984741\n",
      "empiezo el dia -  15\n",
      "0.232999801636\n",
      "empiezo el dia -  16\n",
      "0.186000108719\n",
      "empiezo el dia -  17\n",
      "0.186000108719\n",
      "empiezo el dia -  18\n",
      "0.18700003624\n",
      "empiezo el dia -  19\n",
      "0.184000015259\n",
      "empiezo el dia -  20\n",
      "0.182000160217\n",
      "empiezo el dia -  21\n",
      "0.1890001297\n",
      "empiezo el dia -  22\n",
      "0.180999994278\n",
      "empiezo el dia -  23\n",
      "0.183000087738\n",
      "empiezo el dia -  24\n",
      "0.236000061035\n",
      "empiezo el dia -  25\n",
      "0.182999849319\n",
      "empiezo el dia -  26\n",
      "0.18399977684\n",
      "empiezo el dia -  27\n",
      "0.181999921799\n",
      "empiezo el dia -  28\n",
      "0.184000015259\n",
      "empiezo el dia -  29\n",
      "0.18399977684\n",
      "empiezo el dia -  30\n",
      "0.18499994278\n",
      "empiezo el dia -  31\n",
      "0.180999994278\n",
      "empiezo el mes 11\n",
      "empiezo el dia -  1\n",
      "0.182999849319\n",
      "empiezo el dia -  2\n",
      "0.230000019073\n",
      "empiezo el dia -  3\n",
      "0.185000181198\n",
      "empiezo el dia -  4\n",
      "0.18700003624\n",
      "empiezo el dia -  5\n",
      "0.184000015259\n",
      "empiezo el dia -  6\n",
      "0.18499994278\n",
      "empiezo el dia -  7\n",
      "0.183000087738\n",
      "empiezo el dia -  8\n",
      "0.18700003624\n",
      "empiezo el dia -  9\n",
      "0.18499994278\n",
      "empiezo el dia -  10\n",
      "0.1859998703\n",
      "empiezo el dia -  11\n",
      "0.231999874115\n",
      "empiezo el dia -  12\n",
      "0.18499994278\n",
      "empiezo el dia -  13\n",
      "0.18499994278\n",
      "empiezo el dia -  14\n",
      "0.181999921799\n",
      "empiezo el dia -  15\n",
      "0.18700003624\n",
      "empiezo el dia -  16\n",
      "0.18499994278\n",
      "empiezo el dia -  17\n",
      "0.18700003624\n",
      "empiezo el dia -  18\n",
      "0.183000087738\n",
      "empiezo el dia -  19\n",
      "0.1890001297\n",
      "empiezo el dia -  20\n",
      "0.231999874115\n",
      "empiezo el dia -  21\n",
      "0.1859998703\n",
      "empiezo el dia -  22\n",
      "0.184000015259\n",
      "empiezo el dia -  23\n",
      "0.180999994278\n",
      "empiezo el dia -  24\n",
      "0.183000087738\n",
      "empiezo el dia -  25\n",
      "0.180999994278\n",
      "empiezo el dia -  26\n",
      "0.183000087738\n",
      "empiezo el dia -  27\n",
      "0.181999921799\n",
      "empiezo el dia -  28\n",
      "0.183000087738\n",
      "empiezo el dia -  29\n",
      "0.236000061035\n",
      "empiezo el dia -  30\n",
      "0.181999921799\n",
      "empiezo el dia -  31\n",
      "0.1859998703\n",
      "empiezo el mes 12\n",
      "empiezo el dia -  1\n",
      "0.18499994278\n",
      "empiezo el dia -  2\n",
      "0.188999891281\n",
      "empiezo el dia -  3\n",
      "0.18799996376\n",
      "empiezo el dia -  4\n",
      "0.186000108719\n",
      "empiezo el dia -  5\n",
      "0.183000087738\n",
      "empiezo el dia -  6\n",
      "0.185000181198\n",
      "empiezo el dia -  7\n",
      "0.232000112534\n",
      "empiezo el dia -  8\n",
      "0.185000181198\n",
      "empiezo el dia -  9\n",
      "0.18799996376\n",
      "empiezo el dia -  10\n",
      "0.184000015259\n",
      "empiezo el dia -  11\n",
      "0.18499994278\n",
      "empiezo el dia -  12\n",
      "0.183000087738\n",
      "empiezo el dia -  13\n",
      "0.185000181198\n",
      "empiezo el dia -  14\n",
      "0.186000108719\n",
      "empiezo el dia -  15\n",
      "0.186000108719\n",
      "empiezo el dia -  16\n",
      "0.232000112534\n",
      "empiezo el dia -  17\n",
      "0.183000087738\n",
      "empiezo el dia -  18\n",
      "0.18499994278\n",
      "empiezo el dia -  19\n",
      "0.183000087738\n",
      "empiezo el dia -  20\n",
      "0.184000015259\n",
      "empiezo el dia -  21\n",
      "0.182000160217\n",
      "empiezo el dia -  22\n",
      "0.18499994278\n",
      "empiezo el dia -  23\n",
      "0.183000087738\n",
      "empiezo el dia -  24\n",
      "0.276000022888\n",
      "empiezo el dia -  25\n",
      "1.0119998455\n",
      "empiezo el dia -  26\n",
      "1.08200001717\n",
      "empiezo el dia -  27\n",
      "0.962999820709\n",
      "empiezo el dia -  28\n",
      "0.994999885559\n",
      "empiezo el dia -  29\n",
      "0.786000013351\n",
      "empiezo el dia -  30\n",
      "0.897000074387\n",
      "empiezo el dia -  31\n",
      "1.06599998474\n"
     ]
    }
   ],
   "source": [
    "year2 = int(year)\n",
    "for mes in range(1,13):\n",
    "    print 'empiezo el mes', mes\n",
    "    mesw = str(mes)\n",
    "    for dia in range(1,32):\n",
    "        print 'empiezo el dia - ' ,dia\n",
    "        diaw = str(dia)\n",
    "        if dia < 10:\n",
    "            diaw = '0'+diaw\n",
    "\n",
    "        functionGest(year2,mes,dia)"
   ]
  },
  {
   "cell_type": "code",
   "execution_count": 158,
   "metadata": {},
   "outputs": [
    {
     "data": {
      "text/plain": [
       "(5314, 88)"
      ]
     },
     "execution_count": 158,
     "metadata": {},
     "output_type": "execute_result"
    }
   ],
   "source": [
    "vuelos.to_csv('vuelos.csv', sep=',', index=False)\n",
    "vuelosSinTAVG_o = vuelos[vuelos.TAVG_o==9999.0]\n",
    "vuelosSinTAVG_o.shape"
   ]
  },
  {
   "cell_type": "code",
   "execution_count": null,
   "metadata": {},
   "outputs": [],
   "source": []
  },
  {
   "cell_type": "code",
   "execution_count": null,
   "metadata": {
    "collapsed": true
   },
   "outputs": [],
   "source": []
  }
 ],
 "metadata": {
  "kernelspec": {
   "display_name": "Python 2",
   "language": "python",
   "name": "python2"
  },
  "language_info": {
   "codemirror_mode": {
    "name": "ipython",
    "version": 2
   },
   "file_extension": ".py",
   "mimetype": "text/x-python",
   "name": "python",
   "nbconvert_exporter": "python",
   "pygments_lexer": "ipython2",
   "version": "2.7.13"
  }
 },
 "nbformat": 4,
 "nbformat_minor": 2
}
