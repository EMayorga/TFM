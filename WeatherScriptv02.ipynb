{
 "cells": [
  {
   "cell_type": "code",
   "execution_count": 1,
   "metadata": {
    "collapsed": true,
    "deletable": true,
    "editable": true
   },
   "outputs": [],
   "source": [
    "import time\n",
    "import pandas as pd\n",
    "import numpy as np\n",
    "import math\n",
    "from math import cos, asin, sqrt\n",
    "import gc\n",
    "\n",
    "pd.set_option('display.max_columns', None)"
   ]
  },
  {
   "cell_type": "code",
   "execution_count": 2,
   "metadata": {
    "collapsed": false,
    "deletable": true,
    "editable": true
   },
   "outputs": [
    {
     "name": "stdout",
     "output_type": "stream",
     "text": [
      "17.0350000858\n"
     ]
    }
   ],
   "source": [
    "start = time.time()\n",
    "#########################controlar la excepcion si no esta el fichero creado-----------------------------------------\n",
    "vuelos = pd.read_csv('vuelos.csv', sep=',',low_memory=False, )\n",
    "vuelos.rename(columns={'Unnamed: 0': 'index'}, inplace=True)\n",
    "\n",
    "end = time.time()\n",
    "print(end - start)"
   ]
  },
  {
   "cell_type": "code",
   "execution_count": 5,
   "metadata": {
    "collapsed": false,
    "deletable": true,
    "editable": true
   },
   "outputs": [
    {
     "name": "stdout",
     "output_type": "stream",
     "text": [
      "0.000999927520752\n"
     ]
    }
   ],
   "source": [
    "start = time.time()\n",
    "\n",
    "if vuelos.empty:\n",
    "    #hay que tener cuidado de no machacar nada.\n",
    "    vuelos = pd.read_csv('vuelosDeparted.csv', sep=',',low_memory=False, )\n",
    "    vuelos.rename(columns={'Unnamed: 0': 'index'}, inplace=True)\n",
    "\n",
    "    vuelos[\"TMIN_o\"]= ''\n",
    "    vuelos[\"TMIN_d\"]= ''\n",
    "    vuelos[\"TMAX_o\"]= ''\n",
    "    vuelos[\"TMAX_d\"]= ''\n",
    "    vuelos[\"TAVG_o\"]= ''\n",
    "    vuelos[\"TAVG_d\"]= ''\n",
    "    vuelos[\"SNOW_o\"]= ''\n",
    "    vuelos[\"SNOW_d\"]= ''\n",
    "    vuelos[\"PRCP_o\"]= ''\n",
    "    vuelos[\"PRCP_d\"]= ''\n",
    "    vuelos[\"SNWD_o\"]= ''\n",
    "    vuelos[\"SNWD_d\"]= ''\n",
    "    vuelos[\"ACMC_o\"]= ''\n",
    "    vuelos[\"ACMC_d\"]= ''\n",
    "    vuelos[\"ACSC_o\"]= ''\n",
    "    vuelos[\"ACSC_d\"]= ''\n",
    "    vuelos[\"AWDR_o\"]= ''\n",
    "    vuelos[\"AWDR_d\"]= ''\n",
    "    vuelos[\"AWND_o\"]= ''\n",
    "    vuelos[\"AWND_d\"]= ''\n",
    "    vuelos[\"EVAP_o\"]= ''\n",
    "    vuelos[\"EVAP_d\"]= ''\n",
    "    vuelos[\"FRTH_o\"]= ''\n",
    "    vuelos[\"FRTH_d\"]= ''\n",
    "    vuelos[\"TSUN_o\"]= ''\n",
    "    vuelos[\"TSUN_d\"]= ''\n",
    "    vuelos[\"WDMV_o\"]= ''\n",
    "    vuelos[\"WDMV_d\"]= ''\n",
    "\n",
    "\n",
    "    vuelos.to_csv('vuelos.csv', sep=',', index=False)\n",
    "\n",
    "end = time.time()\n",
    "print(end - start)"
   ]
  },
  {
   "cell_type": "code",
   "execution_count": 3,
   "metadata": {
    "collapsed": false,
    "deletable": true,
    "editable": true
   },
   "outputs": [
    {
     "name": "stdout",
     "output_type": "stream",
     "text": [
      "0.404000043869\n"
     ]
    }
   ],
   "source": [
    "start = time.time()\n",
    "##Leemos el fichero de estaciones de noaa\n",
    "\n",
    "stationstxt = \"\"\n",
    "with open(\"stations.txt\") as input:\n",
    "    stationstxt = input.read()\n",
    "    \n",
    "#Extract the data from file\n",
    "stations2 = stationstxt.split(\"\\n\")\n",
    "#Remove last line\n",
    "stations2 = stations2[:-1]\n",
    "stations2 = map(lambda line: [line[0:11],float(line[13:20]),float(line[22:30]),line[41:71]], stations2)\n",
    "\n",
    "end = time.time()\n",
    "print(end - start)"
   ]
  },
  {
   "cell_type": "markdown",
   "metadata": {
    "deletable": true,
    "editable": true
   },
   "source": [
    "# Leemos datos del tiempo de noaa"
   ]
  },
  {
   "cell_type": "code",
   "execution_count": 30,
   "metadata": {
    "collapsed": false,
    "deletable": true,
    "editable": true
   },
   "outputs": [
    {
     "name": "stdout",
     "output_type": "stream",
     "text": [
      "89.1619999409\n"
     ]
    }
   ],
   "source": [
    "start = time.time()\n",
    "\n",
    "#weather2012 = pd.read_csv(\"2012.csv\",header=None)\n",
    "#weather2012.columns = [\"id\",\"date\",\"type\",\"Value1\",\"Value2\",\"Value3\",\"Value4\",\"Value5\"]\n",
    "\n",
    "weather2011 = pd.read_csv(\"2011.csv\",header=None)\n",
    "weather2011.columns = [\"id\",\"date\",\"type\",\"Value1\",\"Value2\",\"Value3\",\"Value4\",\"Value5\"]\n",
    "#weather2014 = pd.read_csv(\"2014.csv\",header=None)\n",
    "#weather2014.columns = [\"id\",\"date\",\"type\",\"Value1\",\"Value2\",\"Value3\",\"Value4\",\"Value5\"]\n",
    "#weather2015 = pd.read_csv(\"2015.csv\",header=None)\n",
    "#weather2015.columns = [\"id\",\"date\",\"type\",\"Value1\",\"Value2\",\"Value3\",\"Value4\",\"Value5\"]\n",
    "#weather2017 = pd.read_csv(\"2017.csv\",header=None)\n",
    "#weather2017.columns = [\"id\",\"date\",\"type\",\"Value1\",\"Value2\",\"Value3\",\"Value4\",\"Value5\"]\n",
    "#weather2016 = pd.read_csv(\"2016.csv\",header=None)\n",
    "#weather2016.columns = [\"id\",\"date\",\"type\",\"Value1\",\"Value2\",\"Value3\",\"Value4\",\"Value5\"]\n",
    "\n",
    "\n",
    "end = time.time()\n",
    "print(end - start)"
   ]
  },
  {
   "cell_type": "code",
   "execution_count": 5,
   "metadata": {
    "collapsed": false,
    "deletable": true,
    "editable": true
   },
   "outputs": [
    {
     "name": "stdout",
     "output_type": "stream",
     "text": [
      "0.101000070572\n"
     ]
    }
   ],
   "source": [
    "start = time.time()\n",
    "\n",
    "##nos quedamos con las latitudes de las estaciones.\n",
    "stationsdf = pd.DataFrame(stations2)\n",
    "stationsdf.columns = [\"id\",\"lat\",\"lng\",\"name\"]\n",
    "lats = stationsdf[['lat','lng']]\n",
    "\n",
    "#funciones para calcular la distancia entre los aeropuertos y estacion metereologica mas cercana\n",
    "def distance(lat1, lon1, lat2, lon2):\n",
    "    p = 0.017453292519943295\n",
    "    a = 0.5 - cos((lat2-lat1)*p)/2 + cos(lat1*p)*cos(lat2*p) * (1-cos((lon2-lon1)*p)) / 2\n",
    "    return 12742 * asin(sqrt(a))\n",
    "\n",
    "def closest(data, v):\n",
    "    return min(data, key=lambda p: distance(v[0],v[1],p[0],p[1]))\n",
    "\n",
    "#para que la fecha no de problemas al comparar (quizas no este bien del todo)\n",
    "def tratarFecha(fecha):\n",
    "    fecha = str(fecha).split(' ')[0]\n",
    "    fecha = fecha.replace('-','')\n",
    "    fecha = int(fecha)\n",
    "    return fecha\n",
    "end = time.time()\n",
    "print(end - start)"
   ]
  },
  {
   "cell_type": "code",
   "execution_count": 31,
   "metadata": {
    "collapsed": false,
    "deletable": true,
    "editable": true
   },
   "outputs": [
    {
     "name": "stdout",
     "output_type": "stream",
     "text": [
      "8.73900008202\n"
     ]
    }
   ],
   "source": [
    "start = time.time()\n",
    "weatherdf = weather2011\n",
    "del weather2011\n",
    "del weatherdf['Value3']\n",
    "del weatherdf['Value4']\n",
    "del weatherdf['Value5']\n",
    "del weatherdf['Value2']\n",
    "weather = weatherdf ##creamos bck\n",
    "end = time.time()\n",
    "print(end - start)"
   ]
  },
  {
   "cell_type": "code",
   "execution_count": 7,
   "metadata": {
    "collapsed": true,
    "deletable": true,
    "editable": true
   },
   "outputs": [],
   "source": [
    "def obtenerEstacion2(row):\n",
    "    lat = row['board_lat']\n",
    "    lon = row['board_lon']\n",
    "    coor = [lat,lon]\n",
    "    EMC= closest(np.asarray(lats), coor)\n",
    "    ##obtenemos el id de la estacion de board\n",
    "    aux = stationsdf[stationsdf['lat']==EMC[0]]\n",
    "    aux = stationsdf[stationsdf['lng']==EMC[1]]\n",
    "    EMC = aux['id']\n",
    "    s =EMC.to_string()\n",
    "    stationid = str(s)\n",
    "    row['stationid'] = stationid.split()[1]\n",
    "    return row\n",
    "\n",
    "def obtenerEstacion3(row):\n",
    "    lat = row['off_lat']\n",
    "    lon = row['off_lon']\n",
    "    coor = [lat,lon]\n",
    "    EMC= closest(np.asarray(lats), coor)\n",
    "    ##obtenemos el id de la estacion de board\n",
    "    aux = stationsdf[stationsdf['lat']==EMC[0]]\n",
    "    aux = stationsdf[stationsdf['lng']==EMC[1]]\n",
    "    EMC = aux['id']\n",
    "    s =EMC.to_string()\n",
    "    stationid = str(s)\n",
    "    row['stationid'] = stationid.split()[1]\n",
    "    return row\n",
    "\n",
    "def aplicarEstacionesOrigen(row):\n",
    "    row['board_stationid']= coordenadasOrigen[(coordenadasOrigen.board_lat == row['board_lat'])&(coordenadasOrigen.board_lon == row['board_lon'])]['stationid'].values[0]\n",
    "    return row\n",
    "\n",
    "def aplicarEstacionesDestino(row):\n",
    "    row['off_stationid']= coordenadasDestino[(coordenadasDestino.off_lat == row['off_lat'])&(coordenadasDestino.off_lon == row['off_lon'])]['stationid'].values[0]\n",
    "    return row"
   ]
  },
  {
   "cell_type": "code",
   "execution_count": null,
   "metadata": {
    "collapsed": true,
    "deletable": true,
    "editable": true
   },
   "outputs": [],
   "source": [
    "#aplicamos y obtenemos las estaciones (para mejorar el procesado)\n",
    "\n",
    "########################################################no ejecutar siempre--cntrolar que si existen ya no haga este paso..\n",
    "coordenadasOrigen = vuelos[['board_lat','board_lon']]\n",
    "coordenadasDestino = vuelos[['off_lat','off_lon']]\n",
    "coordenadasOrigen = coordenadasOrigen.drop_duplicates(subset=['board_lat', 'board_lon'])\n",
    "coordenadasDestino = coordenadasDestino.drop_duplicates(subset=['off_lat', 'off_lon'])\n",
    "coordenadasOrigen = coordenadasOrigen.apply(lambda x:obtenerEstacion2(x),axis = 1)\n",
    "coordenadasDestino = coordenadasDestino.apply(lambda x:obtenerEstacion3(x),axis = 1)\n",
    "vuelos = vuelos.apply(lambda x: aplicarEstacionesOrigen(x),axis = 1)\n",
    "vuelos = vuelos.apply(lambda x: aplicarEstacionesDestino(x),axis = 1)"
   ]
  },
  {
   "cell_type": "code",
   "execution_count": 7,
   "metadata": {
    "collapsed": true,
    "deletable": true,
    "editable": true
   },
   "outputs": [],
   "source": [
    "def tratar2(row):\n",
    "    \n",
    "    board_station = row['board_stationid']\n",
    "    off_station = row['off_stationid']\n",
    "    fecha = row['actual_time_of_departure']\n",
    "    fecha_d = row['actual_time_of_arrival'] \n",
    "    ##################################\n",
    "    #primero tratamos las fechas\n",
    "    fecha = tratarFecha(fecha)\n",
    "    fecha_d = tratarFecha(fecha_d)\n",
    "    #########################################################################################################\n",
    "    data_board = weatherdf[(weatherdf[\"id\"]==board_station)&(weatherdf['date']==fecha)].sort_values(\"date\")\n",
    "    data_off   = weatherdf[(weatherdf[\"id\"]==off_station)&(weatherdf['date']==fecha_d)].sort_values(\"date\")\n",
    "    #####################################################\n",
    "    data_board[\"Value1\"]=data_board[\"Value1\"]/10\n",
    "    data_board = data_board.reset_index()\n",
    "    data_off[\"Value1\"]=data_off[\"Value1\"]/10\n",
    "    data_off = data_off.reset_index()\n",
    "        #######################################################\n",
    "    T1 = data_board[data_board['type']=='TMIN']['Value1']\n",
    "    T2 = data_off[data_off['type']=='TMIN']['Value1']\n",
    "    T3 = data_board[data_board['type']=='TMAX']['Value1']\n",
    "    T4 = data_off[data_off['type']=='TMAX']['Value1']\n",
    "    T5 = data_board[data_board['type']=='TAVG']['Value1']\n",
    "    T6 = data_off[data_off['type']=='TAVG']['Value1']\n",
    "    T7 = data_board[data_board['type']=='SNOW']['Value1']\n",
    "    T8 = data_off[data_off['type']=='SNOW']['Value1']\n",
    "    T9 = data_board[data_board['type']=='PRCP']['Value1']\n",
    "    T10 = data_off[data_off['type']=='PRCP']['Value1']\n",
    "    T11 = data_board[data_board['type']=='SNWD']['Value1']\n",
    "    T12 = data_off[data_off['type']=='SNWD']['Value1']\n",
    "    T13 = data_board[data_board['type']=='ACMC']['Value1']\n",
    "    T14 = data_off[data_off['type']=='ACMC']['Value1']\n",
    "    T17 = data_board[data_board['type']=='ACSC']['Value1']\n",
    "    T18 = data_off[data_off['type']=='ACSC']['Value1']\n",
    "    T21 = data_board[data_board['type']=='AWDR']['Value1']\n",
    "    T22 = data_off[data_off['type']=='AWDR']['Value1']\n",
    "    T23 = data_board[data_board['type']=='AWND']['Value1']\n",
    "    T24 = data_off[data_off['type']=='AWND']['Value1']\n",
    "    T39 = data_board[data_board['type']=='EVAP']['Value1']\n",
    "    T40 = data_off[data_off['type']=='EVAP']['Value1']\n",
    "    T47 = data_board[data_board['type']=='FRTH']['Value1']\n",
    "    T48 = data_off[data_off['type']=='FRTH']['Value1']\n",
    "    T75 = data_board[data_board['type']=='TSUN']['Value1']\n",
    "    T76 = data_off[data_off['type']=='TSUN']['Value1']\n",
    "    T89 = data_board[data_board['type']=='WDMV']['Value1']\n",
    "    T90 = data_off[data_off['type']=='WDMV']['Value1']\n",
    "    \n",
    "    \n",
    "    ##############################\n",
    "    ##tratamos los valores nulos aplicando un valor nulo\n",
    "    if T1.empty:\n",
    "        T1 = 9999\n",
    "    if T2.empty:\n",
    "        T2 = 9999\n",
    "    if T3.empty:\n",
    "        T3 = 9999\n",
    "    if T4.empty:\n",
    "        T4 = 9999\n",
    "    if T5.empty:\n",
    "        T5 = 9999\n",
    "    if T6.empty:\n",
    "        T6 = 9999\n",
    "    if T7.empty:\n",
    "        T7 = 9999\n",
    "    if T8.empty:\n",
    "        T8 = 9999\n",
    "    if T9.empty:\n",
    "        T9 = 9999\n",
    "    if T10.empty:\n",
    "        T10 = 9999\n",
    "    if T11.empty:\n",
    "        T11 = 9999\n",
    "    if T12.empty:\n",
    "        T12 = 9999\n",
    "    if T13.empty:\n",
    "        T13 = 9999\n",
    "    if T14.empty:\n",
    "        T14 = 9999\n",
    "    if T17.empty:\n",
    "        T17 = 9999\n",
    "    if T18.empty:\n",
    "        T18 = 9999\n",
    "    if T21.empty:\n",
    "        T21 = 9999\n",
    "    if T22.empty:\n",
    "        T22 = 9999\n",
    "    if T23.empty:\n",
    "        T23 = 9999\n",
    "    if T24.empty:\n",
    "        T24 = 9999\n",
    "    if T39.empty:\n",
    "        T39 = 9999\n",
    "    if T40.empty:\n",
    "        T40 = 9999\n",
    "    if T47.empty:\n",
    "        T47 = 9999\n",
    "    if T48.empty:\n",
    "        T48 = 9999\n",
    "    if T75.empty:\n",
    "        T75 = 9999\n",
    "    if T76.empty:\n",
    "        T76 = 9999\n",
    "    if T89.empty:\n",
    "        T89 = 9999\n",
    "    if T90.empty:\n",
    "        T90 = 9999\n",
    "      \n",
    "        \n",
    "    #actualizamos la fila\n",
    "    row['TMIN_o']= float(T1)\n",
    "    row['TMIN_d']= float(T2)\n",
    "    row['TMAX_o']= float(T3)\n",
    "    row['TMAX_d']= float(T4)\n",
    "    row['TAVG_o']= float(T5)\n",
    "    row['TAVG_d']= float(T6)\n",
    "    row['SNOW_o']= float(T7)\n",
    "    row['SNOW_d']= float(T8)\n",
    "    row['PRCP_o']= float(T9)\n",
    "    row['PRCP_d']= float(T10)\n",
    "    row['SNWD_o']= float(T11)\n",
    "    row['SNWD_d']= float(T12)\n",
    "    row['ACMC_o']= float(T13)\n",
    "    row['ACMC_d']= float(T14)\n",
    "    row['ACSC_o']= float(T17)\n",
    "    row['ACSC_d']= float(T18)\n",
    "    row['AWDR_o']= float(T21)\n",
    "    row['AWDR_d']= float(T22)\n",
    "    row['AWND_o']= float(T23)\n",
    "    row['AWND_d']= float(T24)\n",
    "    row['EVAP_o']= float(T39)\n",
    "    row['EVAP_d']= float(T40)\n",
    "    row['FRTH_o']= float(T47)\n",
    "    row['FRTH_d']= float(T48)\n",
    "    row['TSUN_o']= float(T75)\n",
    "    row['TSUN_d']= float(T76)\n",
    "    row['WDMV_o']= float(T89)\n",
    "    row['WDMV_d']= float(T90)\n",
    "\n",
    "\n",
    "    return row\n",
    "\n",
    "def functionWeatherDay(year, month, day):\n",
    "    u = int(month+day)\n",
    "    d = int(year*10000)\n",
    "    weatherdf = weather##restauramos el bck\n",
    "    weatherdf = weatherdf[weatherdf['date']-d==u]\n",
    "    return weatherdf\n",
    "\n",
    "def functionPlus(year, month, day):    \n",
    "    start = time.time()\n",
    "    vuelosSinTratar = vuelos[vuelos['TAVG_o'].isnull()]\n",
    "     \n",
    "    x = vuelosSinTratar[vuelosSinTratar['anyoSalida']==year]\n",
    "    x = x[x['mesSalida']==month]\n",
    "    x = x[x['diaSalida']==day]\n",
    "\n",
    "\n",
    "    x = x.apply(lambda x:tratar2(x),axis = 1)\n",
    "    #para escribir ya\n",
    "    #variable auxiliar\n",
    "\n",
    "    pd.options.mode.chained_assignment = None  # default='warn'\n",
    "    vuelosSinTratar['TMIN_o'] = x.set_index(['index'])['TMIN_o'].combine_first(vuelosSinTratar.set_index(['index'])['TMIN_o']).values\n",
    "    vuelosSinTratar['TMIN_d'] = x.set_index(['index'])['TMIN_d'].combine_first(vuelosSinTratar.set_index(['index'])['TMIN_d']).values\n",
    "    vuelosSinTratar['TMAX_o'] = x.set_index(['index'])['TMAX_o'].combine_first(vuelosSinTratar.set_index(['index'])['TMAX_o']).values\n",
    "    vuelosSinTratar['TMAX_d'] = x.set_index(['index'])['TMAX_d'].combine_first(vuelosSinTratar.set_index(['index'])['TMAX_d']).values\n",
    "    vuelosSinTratar['TAVG_o'] = x.set_index(['index'])['TAVG_o'].combine_first(vuelosSinTratar.set_index(['index'])['TAVG_o']).values\n",
    "    vuelosSinTratar['TAVG_d'] = x.set_index(['index'])['TAVG_d'].combine_first(vuelosSinTratar.set_index(['index'])['TAVG_d']).values\n",
    "    vuelosSinTratar['SNOW_o'] = x.set_index(['index'])['SNOW_o'].combine_first(vuelosSinTratar.set_index(['index'])['SNOW_o']).values\n",
    "    vuelosSinTratar['SNOW_d'] = x.set_index(['index'])['SNOW_d'].combine_first(vuelosSinTratar.set_index(['index'])['SNOW_d']).values\n",
    "    vuelosSinTratar['PRCP_o'] = x.set_index(['index'])['PRCP_o'].combine_first(vuelosSinTratar.set_index(['index'])['PRCP_o']).values\n",
    "    vuelosSinTratar['PRCP_d'] = x.set_index(['index'])['PRCP_d'].combine_first(vuelosSinTratar.set_index(['index'])['PRCP_d']).values\n",
    "    vuelosSinTratar['SNWD_o'] = x.set_index(['index'])['SNWD_o'].combine_first(vuelosSinTratar.set_index(['index'])['SNWD_o']).values\n",
    "    vuelosSinTratar['SNWD_d'] = x.set_index(['index'])['SNWD_d'].combine_first(vuelosSinTratar.set_index(['index'])['SNWD_d']).values\n",
    "    vuelosSinTratar['ACMC_o'] = x.set_index(['index'])['ACMC_o'].combine_first(vuelosSinTratar.set_index(['index'])['ACMC_o']).values\n",
    "    vuelosSinTratar['ACMC_d'] = x.set_index(['index'])['ACMC_d'].combine_first(vuelosSinTratar.set_index(['index'])['ACMC_d']).values\n",
    "    vuelosSinTratar['ACSC_o'] = x.set_index(['index'])['ACSC_o'].combine_first(vuelosSinTratar.set_index(['index'])['ACSC_o']).values\n",
    "    vuelosSinTratar['ACSC_d'] = x.set_index(['index'])['ACSC_d'].combine_first(vuelosSinTratar.set_index(['index'])['ACSC_d']).values\n",
    "    vuelosSinTratar['AWDR_o'] = x.set_index(['index'])['AWDR_o'].combine_first(vuelosSinTratar.set_index(['index'])['AWDR_o']).values\n",
    "    vuelosSinTratar['AWDR_d'] = x.set_index(['index'])['AWDR_d'].combine_first(vuelosSinTratar.set_index(['index'])['AWDR_d']).values\n",
    "    vuelosSinTratar['AWND_o'] = x.set_index(['index'])['AWND_o'].combine_first(vuelosSinTratar.set_index(['index'])['AWND_o']).values\n",
    "    vuelosSinTratar['AWND_d'] = x.set_index(['index'])['AWND_d'].combine_first(vuelosSinTratar.set_index(['index'])['AWND_d']).values\n",
    "    vuelosSinTratar['EVAP_o'] = x.set_index(['index'])['EVAP_o'].combine_first(vuelosSinTratar.set_index(['index'])['EVAP_o']).values\n",
    "    vuelosSinTratar['EVAP_d'] = x.set_index(['index'])['EVAP_d'].combine_first(vuelosSinTratar.set_index(['index'])['EVAP_d']).values\n",
    "    vuelosSinTratar['FRTH_o'] = x.set_index(['index'])['FRTH_o'].combine_first(vuelosSinTratar.set_index(['index'])['FRTH_o']).values\n",
    "    vuelosSinTratar['FRTH_d'] = x.set_index(['index'])['FRTH_d'].combine_first(vuelosSinTratar.set_index(['index'])['FRTH_d']).values\n",
    "    vuelosSinTratar['TSUN_o'] = x.set_index(['index'])['TSUN_o'].combine_first(vuelosSinTratar.set_index(['index'])['TSUN_o']).values\n",
    "    vuelosSinTratar['TSUN_d'] = x.set_index(['index'])['TSUN_d'].combine_first(vuelosSinTratar.set_index(['index'])['TSUN_d']).values\n",
    "    vuelosSinTratar['WDMV_o'] = x.set_index(['index'])['WDMV_o'].combine_first(vuelosSinTratar.set_index(['index'])['WDMV_o']).values\n",
    "    vuelosSinTratar['WDMV_d'] = x.set_index(['index'])['WDMV_d'].combine_first(vuelosSinTratar.set_index(['index'])['WDMV_d']).values\n",
    "\n",
    "\n",
    "    vuelos['TMIN_o'] = vuelosSinTratar.set_index(['index'])['TMIN_o'].combine_first(vuelos.set_index(['index'])['TMIN_o']).values\n",
    "    vuelos['TMIN_d'] = vuelosSinTratar.set_index(['index'])['TMIN_d'].combine_first(vuelos.set_index(['index'])['TMIN_d']).values\n",
    "    vuelos['TMAX_o'] = vuelosSinTratar.set_index(['index'])['TMAX_o'].combine_first(vuelos.set_index(['index'])['TMAX_o']).values\n",
    "    vuelos['TMAX_d'] = vuelosSinTratar.set_index(['index'])['TMAX_d'].combine_first(vuelos.set_index(['index'])['TMAX_d']).values\n",
    "    vuelos['TAVG_o'] = vuelosSinTratar.set_index(['index'])['TAVG_o'].combine_first(vuelos.set_index(['index'])['TAVG_o']).values\n",
    "    vuelos['TAVG_d'] = vuelosSinTratar.set_index(['index'])['TAVG_d'].combine_first(vuelos.set_index(['index'])['TAVG_d']).values\n",
    "    vuelos['SNOW_o'] = vuelosSinTratar.set_index(['index'])['SNOW_o'].combine_first(vuelos.set_index(['index'])['SNOW_o']).values\n",
    "    vuelos['SNOW_d'] = vuelosSinTratar.set_index(['index'])['SNOW_d'].combine_first(vuelos.set_index(['index'])['SNOW_d']).values\n",
    "    vuelos['PRCP_o'] = vuelosSinTratar.set_index(['index'])['PRCP_o'].combine_first(vuelos.set_index(['index'])['PRCP_o']).values\n",
    "    vuelos['PRCP_d'] = vuelosSinTratar.set_index(['index'])['PRCP_d'].combine_first(vuelos.set_index(['index'])['PRCP_d']).values\n",
    "    vuelos['SNWD_o'] = vuelosSinTratar.set_index(['index'])['SNWD_o'].combine_first(vuelos.set_index(['index'])['SNWD_o']).values\n",
    "    vuelos['SNWD_d'] = vuelosSinTratar.set_index(['index'])['SNWD_d'].combine_first(vuelos.set_index(['index'])['SNWD_d']).values\n",
    "    vuelos['ACMC_o'] = vuelosSinTratar.set_index(['index'])['ACMC_o'].combine_first(vuelos.set_index(['index'])['ACMC_o']).values\n",
    "    vuelos['ACMC_d'] = vuelosSinTratar.set_index(['index'])['ACMC_d'].combine_first(vuelos.set_index(['index'])['ACMC_d']).values\n",
    "    vuelos['ACSC_o'] = vuelosSinTratar.set_index(['index'])['ACSC_o'].combine_first(vuelos.set_index(['index'])['ACSC_o']).values\n",
    "    vuelos['ACSC_d'] = vuelosSinTratar.set_index(['index'])['ACSC_d'].combine_first(vuelos.set_index(['index'])['ACSC_d']).values\n",
    "    vuelos['AWDR_o'] = vuelosSinTratar.set_index(['index'])['AWDR_o'].combine_first(vuelos.set_index(['index'])['AWDR_o']).values\n",
    "    vuelos['AWDR_d'] = vuelosSinTratar.set_index(['index'])['AWDR_d'].combine_first(vuelos.set_index(['index'])['AWDR_d']).values\n",
    "    vuelos['AWND_o'] = vuelosSinTratar.set_index(['index'])['AWND_o'].combine_first(vuelos.set_index(['index'])['AWND_o']).values\n",
    "    vuelos['AWND_d'] = vuelosSinTratar.set_index(['index'])['AWND_d'].combine_first(vuelos.set_index(['index'])['AWND_d']).values\n",
    "    vuelos['EVAP_o'] = vuelosSinTratar.set_index(['index'])['EVAP_o'].combine_first(vuelos.set_index(['index'])['EVAP_o']).values\n",
    "    vuelos['EVAP_d'] = vuelosSinTratar.set_index(['index'])['EVAP_d'].combine_first(vuelos.set_index(['index'])['EVAP_d']).values\n",
    "    vuelos['FRTH_o'] = vuelosSinTratar.set_index(['index'])['FRTH_o'].combine_first(vuelos.set_index(['index'])['FRTH_o']).values\n",
    "    vuelos['FRTH_d'] = vuelosSinTratar.set_index(['index'])['FRTH_d'].combine_first(vuelos.set_index(['index'])['FRTH_d']).values\n",
    "    vuelos['TSUN_o'] = vuelosSinTratar.set_index(['index'])['TSUN_o'].combine_first(vuelos.set_index(['index'])['TSUN_o']).values\n",
    "    vuelos['TSUN_d'] = vuelosSinTratar.set_index(['index'])['TSUN_d'].combine_first(vuelos.set_index(['index'])['TSUN_d']).values\n",
    "    vuelos['WDMV_o'] = vuelosSinTratar.set_index(['index'])['WDMV_o'].combine_first(vuelos.set_index(['index'])['WDMV_o']).values\n",
    "    vuelos['WDMV_d'] = vuelosSinTratar.set_index(['index'])['WDMV_d'].combine_first(vuelos.set_index(['index'])['WDMV_d']).values\n",
    "\n",
    "    \n",
    "    #vuelos.to_csv('vuelos.csv', sep=',', index=False)\n",
    "    end = time.time()\n",
    "    print(end - start)"
   ]
  },
  {
   "cell_type": "code",
   "execution_count": 35,
   "metadata": {
    "collapsed": true,
    "deletable": true,
    "editable": true
   },
   "outputs": [],
   "source": [
    "#variables de inicio\n",
    "dia = 1\n",
    "mes = 1\n",
    "anyo = 2011"
   ]
  },
  {
   "cell_type": "code",
   "execution_count": 36,
   "metadata": {
    "collapsed": false,
    "deletable": true,
    "editable": true
   },
   "outputs": [
    {
     "name": "stdout",
     "output_type": "stream",
     "text": [
      "empiezo el mes 1\n",
      "empiezo el dia -  1\n",
      "3.76300001144\n",
      "empiezo el dia -  2\n",
      "3.62800002098\n",
      "empiezo el dia -  3\n",
      "3.58699989319\n",
      "empiezo el dia -  4\n",
      "3.64599990845\n",
      "empiezo el dia -  5\n",
      "3.62300014496\n",
      "empiezo el dia -  6\n",
      "3.56599998474\n",
      "empiezo el dia -  7\n",
      "3.53099989891\n",
      "empiezo el dia -  8\n",
      "4.32399988174\n"
     ]
    }
   ],
   "source": [
    "for mes in range(1,2):\n",
    "    print 'empiezo el mes', mes\n",
    "    mesw = str(mes)\n",
    "    for dia in range(1,9):\n",
    "        print 'empiezo el dia - ' ,dia\n",
    "        diaw = str(dia)\n",
    "        if dia < 10:\n",
    "            diaw = '0'+diaw\n",
    "\n",
    "        weatherdf = functionWeatherDay(anyo,mesw,diaw)\n",
    "        functionPlus(anyo,mes,dia)"
   ]
  },
  {
   "cell_type": "code",
   "execution_count": 37,
   "metadata": {
    "collapsed": false,
    "deletable": true,
    "editable": true
   },
   "outputs": [],
   "source": [
    "vuelos.to_csv('vuelos.csv', sep=',', index=False)\n"
   ]
  },
  {
   "cell_type": "code",
   "execution_count": 38,
   "metadata": {
    "collapsed": false,
    "deletable": true,
    "editable": true
   },
   "outputs": [
    {
     "name": "stdout",
     "output_type": "stream",
     "text": [
      "sin tratar de todos  (0, 86)\n",
      "tratados  (212698, 86)\n",
      "sin tratar totales del año  (0, 86)\n",
      "del mes sin tratar  (0, 86)\n",
      "vuelos del dia sin tratar  (0, 86)\n"
     ]
    }
   ],
   "source": [
    "#para ver el estado del proceso...borrar luego.\n",
    "vuelosSinTratar = vuelos[vuelos['TAVG_o'].isnull()]\n",
    "vuelosTratados = vuelos[vuelos['TAVG_o'].notnull()]\n",
    "print 'sin tratar de todos ', vuelosSinTratar.shape\n",
    "print 'tratados ', vuelosTratados.shape\n",
    "x = vuelosSinTratar[vuelosSinTratar['anyoSalida']==2012]\n",
    "print 'sin tratar totales del año ', x.shape\n",
    "x = x[x['mesSalida']==mes]\n",
    "print 'del mes sin tratar ', x.shape\n",
    "x = x[x['diaSalida']==dia]\n",
    "print 'vuelos del dia sin tratar ' , x.shape"
   ]
  },
  {
   "cell_type": "code",
   "execution_count": null,
   "metadata": {
    "collapsed": false,
    "deletable": true,
    "editable": true
   },
   "outputs": [],
   "source": []
  },
  {
   "cell_type": "code",
   "execution_count": 29,
   "metadata": {
    "collapsed": false,
    "deletable": true,
    "editable": true
   },
   "outputs": [
    {
     "data": {
      "text/html": [
       "<div>\n",
       "<table border=\"1\" class=\"dataframe\">\n",
       "  <thead>\n",
       "    <tr style=\"text-align: right;\">\n",
       "      <th></th>\n",
       "      <th>index</th>\n",
       "      <th>airline_code</th>\n",
       "      <th>flight_number</th>\n",
       "      <th>board_point</th>\n",
       "      <th>board_lat</th>\n",
       "      <th>board_lon</th>\n",
       "      <th>board_country_code</th>\n",
       "      <th>off_point</th>\n",
       "      <th>off_lat</th>\n",
       "      <th>off_lon</th>\n",
       "      <th>off_country_code</th>\n",
       "      <th>distance</th>\n",
       "      <th>scheduled_time_of_departure</th>\n",
       "      <th>actual_time_of_departure</th>\n",
       "      <th>scheduled_time_of_arrival</th>\n",
       "      <th>actual_time_of_arrival</th>\n",
       "      <th>departure_delay</th>\n",
       "      <th>arrival_delay</th>\n",
       "      <th>sched_blocktime</th>\n",
       "      <th>est_blocktime</th>\n",
       "      <th>act_blocktime</th>\n",
       "      <th>aircraft_type</th>\n",
       "      <th>aircraft_registration_number</th>\n",
       "      <th>general_status_code</th>\n",
       "      <th>routing</th>\n",
       "      <th>cabin_1_code</th>\n",
       "      <th>cabin_1_fitted_configuration</th>\n",
       "      <th>cabin_1_saleable</th>\n",
       "      <th>cabin_1_pax_boarded</th>\n",
       "      <th>cabin_1_rpk</th>\n",
       "      <th>cabin_1_ask</th>\n",
       "      <th>cabin_2_code</th>\n",
       "      <th>cabin_2_fitted_configuration</th>\n",
       "      <th>cabin_2_saleable</th>\n",
       "      <th>cabin_2_pax_boarded</th>\n",
       "      <th>cabin_2_rpk</th>\n",
       "      <th>cabin_2_ask</th>\n",
       "      <th>total_rpk</th>\n",
       "      <th>total_ask</th>\n",
       "      <th>load_factor</th>\n",
       "      <th>total_pax</th>\n",
       "      <th>total_no_shows</th>\n",
       "      <th>total_cabin_crew</th>\n",
       "      <th>total_technical_crew</th>\n",
       "      <th>total_baggage_weight</th>\n",
       "      <th>number_of_baggage_pieces</th>\n",
       "      <th>mesSalida</th>\n",
       "      <th>anyoSalida</th>\n",
       "      <th>diaSalida</th>\n",
       "      <th>horaSalida</th>\n",
       "      <th>mesLlegada</th>\n",
       "      <th>anyoLlegada</th>\n",
       "      <th>diaLlegada</th>\n",
       "      <th>horaLlegada</th>\n",
       "      <th>diaSemanaSalida</th>\n",
       "      <th>diaSemanaLlegada</th>\n",
       "      <th>TMIN_o</th>\n",
       "      <th>TMIN_d</th>\n",
       "      <th>TMAX_o</th>\n",
       "      <th>TMAX_d</th>\n",
       "      <th>TAVG_o</th>\n",
       "      <th>TAVG_d</th>\n",
       "      <th>SNOW_o</th>\n",
       "      <th>SNOW_d</th>\n",
       "      <th>PRCP_o</th>\n",
       "      <th>PRCP_d</th>\n",
       "      <th>SNWD_o</th>\n",
       "      <th>SNWD_d</th>\n",
       "      <th>ACMC_o</th>\n",
       "      <th>ACMC_d</th>\n",
       "      <th>ACSC_o</th>\n",
       "      <th>ACSC_d</th>\n",
       "      <th>AWDR_o</th>\n",
       "      <th>AWDR_d</th>\n",
       "      <th>AWND_o</th>\n",
       "      <th>AWND_d</th>\n",
       "      <th>EVAP_o</th>\n",
       "      <th>EVAP_d</th>\n",
       "      <th>FRTH_o</th>\n",
       "      <th>FRTH_d</th>\n",
       "      <th>TSUN_o</th>\n",
       "      <th>TSUN_d</th>\n",
       "      <th>WDMV_o</th>\n",
       "      <th>WDMV_d</th>\n",
       "      <th>board_stationid</th>\n",
       "      <th>off_stationid</th>\n",
       "    </tr>\n",
       "  </thead>\n",
       "  <tbody>\n",
       "    <tr>\n",
       "      <th>212697</th>\n",
       "      <td>222012</td>\n",
       "      <td>OR</td>\n",
       "      <td>776</td>\n",
       "      <td>LEU</td>\n",
       "      <td>42.338611</td>\n",
       "      <td>1.409167</td>\n",
       "      <td>ES</td>\n",
       "      <td>QXB</td>\n",
       "      <td>43.505554</td>\n",
       "      <td>5.367778</td>\n",
       "      <td>FR</td>\n",
       "      <td>347</td>\n",
       "      <td>2011-01-08 12:00:00</td>\n",
       "      <td>2011-01-08 11:56:00</td>\n",
       "      <td>2011-01-08 14:00:00</td>\n",
       "      <td>2011-01-08 13:58:00</td>\n",
       "      <td>-4</td>\n",
       "      <td>-2</td>\n",
       "      <td>120</td>\n",
       "      <td>NaN</td>\n",
       "      <td>122</td>\n",
       "      <td>AT5</td>\n",
       "      <td>MFOAT</td>\n",
       "      <td>Departed</td>\n",
       "      <td>LEU-QXB</td>\n",
       "      <td>Y</td>\n",
       "      <td>48</td>\n",
       "      <td>48</td>\n",
       "      <td>22</td>\n",
       "      <td>7643</td>\n",
       "      <td>16676</td>\n",
       "      <td>NaN</td>\n",
       "      <td>NaN</td>\n",
       "      <td>NaN</td>\n",
       "      <td>NaN</td>\n",
       "      <td>NaN</td>\n",
       "      <td>NaN</td>\n",
       "      <td>7643</td>\n",
       "      <td>16676</td>\n",
       "      <td>0.458333</td>\n",
       "      <td>22</td>\n",
       "      <td>0</td>\n",
       "      <td>1</td>\n",
       "      <td>2</td>\n",
       "      <td>209</td>\n",
       "      <td>19</td>\n",
       "      <td>1</td>\n",
       "      <td>2011</td>\n",
       "      <td>8</td>\n",
       "      <td>11:56:00</td>\n",
       "      <td>1</td>\n",
       "      <td>2011</td>\n",
       "      <td>8</td>\n",
       "      <td>13:58:00</td>\n",
       "      <td>s�bado</td>\n",
       "      <td>s�bado</td>\n",
       "      <td>NaN</td>\n",
       "      <td>NaN</td>\n",
       "      <td>NaN</td>\n",
       "      <td>NaN</td>\n",
       "      <td>NaN</td>\n",
       "      <td>NaN</td>\n",
       "      <td>NaN</td>\n",
       "      <td>NaN</td>\n",
       "      <td>NaN</td>\n",
       "      <td>NaN</td>\n",
       "      <td>NaN</td>\n",
       "      <td>NaN</td>\n",
       "      <td>NaN</td>\n",
       "      <td>NaN</td>\n",
       "      <td>NaN</td>\n",
       "      <td>NaN</td>\n",
       "      <td>NaN</td>\n",
       "      <td>NaN</td>\n",
       "      <td>NaN</td>\n",
       "      <td>NaN</td>\n",
       "      <td>NaN</td>\n",
       "      <td>NaN</td>\n",
       "      <td>NaN</td>\n",
       "      <td>NaN</td>\n",
       "      <td>NaN</td>\n",
       "      <td>NaN</td>\n",
       "      <td>NaN</td>\n",
       "      <td>NaN</td>\n",
       "      <td>FRM00007627</td>\n",
       "      <td>FR000007650</td>\n",
       "    </tr>\n",
       "  </tbody>\n",
       "</table>\n",
       "</div>"
      ],
      "text/plain": [
       "         index airline_code  flight_number board_point  board_lat  board_lon  \\\n",
       "212697  222012           OR            776         LEU  42.338611   1.409167   \n",
       "\n",
       "       board_country_code off_point    off_lat   off_lon off_country_code  \\\n",
       "212697                 ES       QXB  43.505554  5.367778               FR   \n",
       "\n",
       "        distance scheduled_time_of_departure actual_time_of_departure  \\\n",
       "212697       347         2011-01-08 12:00:00      2011-01-08 11:56:00   \n",
       "\n",
       "       scheduled_time_of_arrival actual_time_of_arrival  departure_delay  \\\n",
       "212697       2011-01-08 14:00:00    2011-01-08 13:58:00               -4   \n",
       "\n",
       "        arrival_delay  sched_blocktime  est_blocktime  act_blocktime  \\\n",
       "212697             -2              120            NaN            122   \n",
       "\n",
       "       aircraft_type aircraft_registration_number general_status_code  \\\n",
       "212697           AT5                        MFOAT            Departed   \n",
       "\n",
       "        routing cabin_1_code  cabin_1_fitted_configuration  cabin_1_saleable  \\\n",
       "212697  LEU-QXB            Y                            48                48   \n",
       "\n",
       "        cabin_1_pax_boarded  cabin_1_rpk  cabin_1_ask cabin_2_code  \\\n",
       "212697                   22         7643        16676          NaN   \n",
       "\n",
       "        cabin_2_fitted_configuration  cabin_2_saleable  cabin_2_pax_boarded  \\\n",
       "212697                           NaN               NaN                  NaN   \n",
       "\n",
       "        cabin_2_rpk  cabin_2_ask  total_rpk  total_ask  load_factor  \\\n",
       "212697          NaN          NaN       7643      16676     0.458333   \n",
       "\n",
       "        total_pax  total_no_shows  total_cabin_crew  total_technical_crew  \\\n",
       "212697         22               0                 1                     2   \n",
       "\n",
       "        total_baggage_weight  number_of_baggage_pieces  mesSalida  anyoSalida  \\\n",
       "212697                   209                        19          1        2011   \n",
       "\n",
       "        diaSalida horaSalida  mesLlegada  anyoLlegada  diaLlegada horaLlegada  \\\n",
       "212697          8   11:56:00           1         2011           8    13:58:00   \n",
       "\n",
       "       diaSemanaSalida diaSemanaLlegada  TMIN_o  TMIN_d  TMAX_o  TMAX_d  \\\n",
       "212697          s�bado           s�bado     NaN     NaN     NaN     NaN   \n",
       "\n",
       "        TAVG_o  TAVG_d  SNOW_o  SNOW_d  PRCP_o  PRCP_d  SNWD_o  SNWD_d  \\\n",
       "212697     NaN     NaN     NaN     NaN     NaN     NaN     NaN     NaN   \n",
       "\n",
       "        ACMC_o  ACMC_d  ACSC_o  ACSC_d  AWDR_o  AWDR_d  AWND_o  AWND_d  \\\n",
       "212697     NaN     NaN     NaN     NaN     NaN     NaN     NaN     NaN   \n",
       "\n",
       "        EVAP_o  EVAP_d  FRTH_o  FRTH_d  TSUN_o  TSUN_d  WDMV_o  WDMV_d  \\\n",
       "212697     NaN     NaN     NaN     NaN     NaN     NaN     NaN     NaN   \n",
       "\n",
       "       board_stationid off_stationid  \n",
       "212697     FRM00007627   FR000007650  "
      ]
     },
     "execution_count": 29,
     "metadata": {},
     "output_type": "execute_result"
    }
   ],
   "source": [
    "vuelosSinTratar[vuelosSinTratar['anyoSalida']==2011]"
   ]
  },
  {
   "cell_type": "code",
   "execution_count": 40,
   "metadata": {
    "collapsed": false,
    "deletable": true,
    "editable": true
   },
   "outputs": [
    {
     "data": {
      "text/plain": [
       "(212698, 86)"
      ]
     },
     "execution_count": 40,
     "metadata": {},
     "output_type": "execute_result"
    }
   ],
   "source": [
    "vuelos.shape"
   ]
  },
  {
   "cell_type": "code",
   "execution_count": 42,
   "metadata": {
    "collapsed": false,
    "deletable": true,
    "editable": true
   },
   "outputs": [
    {
     "data": {
      "text/plain": [
       "(93590, 86)"
      ]
     },
     "execution_count": 42,
     "metadata": {},
     "output_type": "execute_result"
    }
   ],
   "source": [
    "vuelos[vuelos.TMIN_d==9999.0].shape"
   ]
  },
  {
   "cell_type": "code",
   "execution_count": 44,
   "metadata": {
    "collapsed": false,
    "deletable": true,
    "editable": true
   },
   "outputs": [
    {
     "data": {
      "text/plain": [
       "(80587, 86)"
      ]
     },
     "execution_count": 44,
     "metadata": {},
     "output_type": "execute_result"
    }
   ],
   "source": [
    "vuelos[vuelos.TMIN_o==9999.0].shape"
   ]
  },
  {
   "cell_type": "code",
   "execution_count": 45,
   "metadata": {
    "collapsed": false,
    "deletable": true,
    "editable": true
   },
   "outputs": [
    {
     "data": {
      "text/plain": [
       "(80129, 86)"
      ]
     },
     "execution_count": 45,
     "metadata": {},
     "output_type": "execute_result"
    }
   ],
   "source": [
    "vuelos[vuelos.TMAX_d==9999.0].shape"
   ]
  },
  {
   "cell_type": "code",
   "execution_count": 46,
   "metadata": {
    "collapsed": false,
    "deletable": true,
    "editable": true
   },
   "outputs": [
    {
     "data": {
      "text/plain": [
       "(66248, 86)"
      ]
     },
     "execution_count": 46,
     "metadata": {},
     "output_type": "execute_result"
    }
   ],
   "source": [
    "vuelos[vuelos.TMAX_o==9999.0].shape"
   ]
  },
  {
   "cell_type": "code",
   "execution_count": 47,
   "metadata": {
    "collapsed": false,
    "deletable": true,
    "editable": true
   },
   "outputs": [
    {
     "data": {
      "text/plain": [
       "(50849, 86)"
      ]
     },
     "execution_count": 47,
     "metadata": {},
     "output_type": "execute_result"
    }
   ],
   "source": [
    "vuelos[vuelos.TAVG_d==9999.0].shape"
   ]
  },
  {
   "cell_type": "code",
   "execution_count": 48,
   "metadata": {
    "collapsed": false,
    "deletable": true,
    "editable": true
   },
   "outputs": [
    {
     "data": {
      "text/plain": [
       "(33124, 86)"
      ]
     },
     "execution_count": 48,
     "metadata": {},
     "output_type": "execute_result"
    }
   ],
   "source": [
    "vuelos[vuelos.TAVG_o==9999.0].shape"
   ]
  },
  {
   "cell_type": "code",
   "execution_count": 105,
   "metadata": {
    "collapsed": false,
    "deletable": true,
    "editable": true
   },
   "outputs": [],
   "source": []
  },
  {
   "cell_type": "code",
   "execution_count": 49,
   "metadata": {
    "collapsed": false,
    "deletable": true,
    "editable": true
   },
   "outputs": [
    {
     "data": {
      "text/plain": [
       "(212687, 86)"
      ]
     },
     "execution_count": 49,
     "metadata": {},
     "output_type": "execute_result"
    }
   ],
   "source": [
    "vuelos[vuelos.SNOW_o==9999.0].shape"
   ]
  },
  {
   "cell_type": "code",
   "execution_count": 50,
   "metadata": {
    "collapsed": false,
    "deletable": true,
    "editable": true
   },
   "outputs": [
    {
     "data": {
      "text/plain": [
       "(212691, 86)"
      ]
     },
     "execution_count": 50,
     "metadata": {},
     "output_type": "execute_result"
    }
   ],
   "source": [
    "vuelos[vuelos.SNOW_d==9999.0].shape"
   ]
  },
  {
   "cell_type": "code",
   "execution_count": 51,
   "metadata": {
    "collapsed": false,
    "deletable": true,
    "editable": true
   },
   "outputs": [
    {
     "data": {
      "text/plain": [
       "(45673, 86)"
      ]
     },
     "execution_count": 51,
     "metadata": {},
     "output_type": "execute_result"
    }
   ],
   "source": [
    "vuelos[vuelos.PRCP_o==9999.0].shape"
   ]
  },
  {
   "cell_type": "code",
   "execution_count": 52,
   "metadata": {
    "collapsed": false,
    "deletable": true,
    "editable": true
   },
   "outputs": [
    {
     "data": {
      "text/plain": [
       "(59212, 86)"
      ]
     },
     "execution_count": 52,
     "metadata": {},
     "output_type": "execute_result"
    }
   ],
   "source": [
    "vuelos[vuelos.PRCP_d==9999.0].shape"
   ]
  },
  {
   "cell_type": "code",
   "execution_count": 53,
   "metadata": {
    "collapsed": false,
    "deletable": true,
    "editable": true
   },
   "outputs": [
    {
     "data": {
      "text/plain": [
       "(209910, 86)"
      ]
     },
     "execution_count": 53,
     "metadata": {},
     "output_type": "execute_result"
    }
   ],
   "source": [
    "vuelos[vuelos.SNWD_o==9999.0].shape"
   ]
  },
  {
   "cell_type": "code",
   "execution_count": 54,
   "metadata": {
    "collapsed": false,
    "deletable": true,
    "editable": true
   },
   "outputs": [
    {
     "data": {
      "text/plain": [
       "(210240, 86)"
      ]
     },
     "execution_count": 54,
     "metadata": {},
     "output_type": "execute_result"
    }
   ],
   "source": [
    "vuelos[vuelos.SNWD_d==9999.0].shape"
   ]
  },
  {
   "cell_type": "code",
   "execution_count": null,
   "metadata": {
    "collapsed": true,
    "deletable": true,
    "editable": true
   },
   "outputs": [],
   "source": []
  },
  {
   "cell_type": "code",
   "execution_count": 55,
   "metadata": {
    "collapsed": false,
    "deletable": true,
    "editable": true
   },
   "outputs": [
    {
     "data": {
      "text/plain": [
       "(212698, 86)"
      ]
     },
     "execution_count": 55,
     "metadata": {},
     "output_type": "execute_result"
    }
   ],
   "source": [
    "vuelos[vuelos.ACMC_o==9999.0].shape"
   ]
  },
  {
   "cell_type": "code",
   "execution_count": 56,
   "metadata": {
    "collapsed": false,
    "deletable": true,
    "editable": true
   },
   "outputs": [
    {
     "data": {
      "text/plain": [
       "(212698, 86)"
      ]
     },
     "execution_count": 56,
     "metadata": {},
     "output_type": "execute_result"
    }
   ],
   "source": [
    "vuelos[vuelos.ACMC_d==9999.0].shape"
   ]
  },
  {
   "cell_type": "code",
   "execution_count": 57,
   "metadata": {
    "collapsed": false,
    "deletable": true,
    "editable": true
   },
   "outputs": [
    {
     "data": {
      "text/plain": [
       "(212698, 86)"
      ]
     },
     "execution_count": 57,
     "metadata": {},
     "output_type": "execute_result"
    }
   ],
   "source": [
    "vuelos[vuelos.ACSC_o==9999.0].shape"
   ]
  },
  {
   "cell_type": "code",
   "execution_count": 58,
   "metadata": {
    "collapsed": false,
    "deletable": true,
    "editable": true
   },
   "outputs": [
    {
     "data": {
      "text/plain": [
       "(212698, 86)"
      ]
     },
     "execution_count": 58,
     "metadata": {},
     "output_type": "execute_result"
    }
   ],
   "source": [
    "vuelos[vuelos.ACSC_d==9999.0].shape"
   ]
  },
  {
   "cell_type": "code",
   "execution_count": 59,
   "metadata": {
    "collapsed": false,
    "deletable": true,
    "editable": true
   },
   "outputs": [
    {
     "data": {
      "text/plain": [
       "(212698, 86)"
      ]
     },
     "execution_count": 59,
     "metadata": {},
     "output_type": "execute_result"
    }
   ],
   "source": [
    "vuelos[vuelos.AWDR_o==9999.0].shape"
   ]
  },
  {
   "cell_type": "code",
   "execution_count": 60,
   "metadata": {
    "collapsed": false,
    "deletable": true,
    "editable": true
   },
   "outputs": [
    {
     "data": {
      "text/plain": [
       "(212698, 86)"
      ]
     },
     "execution_count": 60,
     "metadata": {},
     "output_type": "execute_result"
    }
   ],
   "source": [
    "vuelos[vuelos.AWDR_d==9999.0].shape"
   ]
  },
  {
   "cell_type": "code",
   "execution_count": 61,
   "metadata": {
    "collapsed": false,
    "deletable": true,
    "editable": true
   },
   "outputs": [
    {
     "data": {
      "text/plain": [
       "(212687, 86)"
      ]
     },
     "execution_count": 61,
     "metadata": {},
     "output_type": "execute_result"
    }
   ],
   "source": [
    "vuelos[vuelos.AWND_o==9999.0].shape"
   ]
  },
  {
   "cell_type": "code",
   "execution_count": 62,
   "metadata": {
    "collapsed": false,
    "deletable": true,
    "editable": true
   },
   "outputs": [
    {
     "data": {
      "text/plain": [
       "(212691, 86)"
      ]
     },
     "execution_count": 62,
     "metadata": {},
     "output_type": "execute_result"
    }
   ],
   "source": [
    "vuelos[vuelos.AWND_d==9999.0].shape"
   ]
  },
  {
   "cell_type": "code",
   "execution_count": 63,
   "metadata": {
    "collapsed": false,
    "deletable": true,
    "editable": true
   },
   "outputs": [
    {
     "data": {
      "text/plain": [
       "(212698, 86)"
      ]
     },
     "execution_count": 63,
     "metadata": {},
     "output_type": "execute_result"
    }
   ],
   "source": [
    "vuelos[vuelos.EVAP_o==9999.0].shape"
   ]
  },
  {
   "cell_type": "code",
   "execution_count": 64,
   "metadata": {
    "collapsed": false,
    "deletable": true,
    "editable": true
   },
   "outputs": [
    {
     "data": {
      "text/plain": [
       "(212698, 86)"
      ]
     },
     "execution_count": 64,
     "metadata": {},
     "output_type": "execute_result"
    }
   ],
   "source": [
    "vuelos[vuelos.EVAP_d==9999.0].shape"
   ]
  },
  {
   "cell_type": "code",
   "execution_count": null,
   "metadata": {
    "collapsed": true,
    "deletable": true,
    "editable": true
   },
   "outputs": [],
   "source": []
  },
  {
   "cell_type": "code",
   "execution_count": 65,
   "metadata": {
    "collapsed": false,
    "deletable": true,
    "editable": true
   },
   "outputs": [
    {
     "data": {
      "text/plain": [
       "(212698, 86)"
      ]
     },
     "execution_count": 65,
     "metadata": {},
     "output_type": "execute_result"
    }
   ],
   "source": [
    "vuelos[vuelos.FRTH_o==9999.0].shape"
   ]
  },
  {
   "cell_type": "code",
   "execution_count": 66,
   "metadata": {
    "collapsed": false,
    "deletable": true,
    "editable": true
   },
   "outputs": [
    {
     "data": {
      "text/plain": [
       "(212698, 86)"
      ]
     },
     "execution_count": 66,
     "metadata": {},
     "output_type": "execute_result"
    }
   ],
   "source": [
    "vuelos[vuelos.FRTH_d==9999.0].shape"
   ]
  },
  {
   "cell_type": "code",
   "execution_count": 67,
   "metadata": {
    "collapsed": false,
    "deletable": true,
    "editable": true
   },
   "outputs": [
    {
     "data": {
      "text/plain": [
       "(212698, 86)"
      ]
     },
     "execution_count": 67,
     "metadata": {},
     "output_type": "execute_result"
    }
   ],
   "source": [
    "vuelos[vuelos.TSUN_o==9999.0].shape"
   ]
  },
  {
   "cell_type": "code",
   "execution_count": 68,
   "metadata": {
    "collapsed": false,
    "deletable": true,
    "editable": true
   },
   "outputs": [
    {
     "data": {
      "text/plain": [
       "(212698, 86)"
      ]
     },
     "execution_count": 68,
     "metadata": {},
     "output_type": "execute_result"
    }
   ],
   "source": [
    "vuelos[vuelos.TSUN_d==9999.0].shape"
   ]
  },
  {
   "cell_type": "code",
   "execution_count": 69,
   "metadata": {
    "collapsed": false,
    "deletable": true,
    "editable": true
   },
   "outputs": [
    {
     "data": {
      "text/plain": [
       "(212698, 86)"
      ]
     },
     "execution_count": 69,
     "metadata": {},
     "output_type": "execute_result"
    }
   ],
   "source": [
    "vuelos[vuelos.WDMV_o==9999.0].shape"
   ]
  },
  {
   "cell_type": "code",
   "execution_count": 70,
   "metadata": {
    "collapsed": false,
    "deletable": true,
    "editable": true
   },
   "outputs": [
    {
     "data": {
      "text/plain": [
       "(212698, 86)"
      ]
     },
     "execution_count": 70,
     "metadata": {},
     "output_type": "execute_result"
    }
   ],
   "source": [
    "vuelos[vuelos.WDMV_d==9999.0].shape"
   ]
  },
  {
   "cell_type": "code",
   "execution_count": 72,
   "metadata": {
    "collapsed": false,
    "deletable": true,
    "editable": true
   },
   "outputs": [],
   "source": [
    "#todas las estaciones\n",
    "stationsdf.to_csv('stationsAll.csv',sep=',', index=False)"
   ]
  },
  {
   "cell_type": "code",
   "execution_count": 77,
   "metadata": {
    "collapsed": true,
    "deletable": true,
    "editable": true
   },
   "outputs": [],
   "source": [
    "stationstavg = weatherdf[weatherdf[\"type\"]==\"TAVG\"].groupby(\"id\")[\"date\"]."
   ]
  },
  {
   "cell_type": "code",
   "execution_count": 74,
   "metadata": {
    "collapsed": false,
    "deletable": true,
    "editable": true
   },
   "outputs": [
    {
     "data": {
      "text/html": [
       "<div>\n",
       "<table border=\"1\" class=\"dataframe\">\n",
       "  <thead>\n",
       "    <tr style=\"text-align: right;\">\n",
       "      <th></th>\n",
       "      <th>id</th>\n",
       "      <th>date</th>\n",
       "      <th>type</th>\n",
       "      <th>Value1</th>\n",
       "    </tr>\n",
       "  </thead>\n",
       "  <tbody>\n",
       "    <tr>\n",
       "      <th>665664</th>\n",
       "      <td>ASN00068151</td>\n",
       "      <td>20110108</td>\n",
       "      <td>TAVG</td>\n",
       "      <td>223</td>\n",
       "    </tr>\n",
       "    <tr>\n",
       "      <th>665668</th>\n",
       "      <td>ARM00087582</td>\n",
       "      <td>20110108</td>\n",
       "      <td>TAVG</td>\n",
       "      <td>252</td>\n",
       "    </tr>\n",
       "    <tr>\n",
       "      <th>665686</th>\n",
       "      <td>CA002201903</td>\n",
       "      <td>20110108</td>\n",
       "      <td>TAVG</td>\n",
       "      <td>-267</td>\n",
       "    </tr>\n",
       "    <tr>\n",
       "      <th>665724</th>\n",
       "      <td>UVM00065518</td>\n",
       "      <td>20110108</td>\n",
       "      <td>TAVG</td>\n",
       "      <td>256</td>\n",
       "    </tr>\n",
       "    <tr>\n",
       "      <th>665780</th>\n",
       "      <td>BXM00096315</td>\n",
       "      <td>20110108</td>\n",
       "      <td>TAVG</td>\n",
       "      <td>265</td>\n",
       "    </tr>\n",
       "    <tr>\n",
       "      <th>665815</th>\n",
       "      <td>USS0018F01S</td>\n",
       "      <td>20110108</td>\n",
       "      <td>TAVG</td>\n",
       "      <td>-35</td>\n",
       "    </tr>\n",
       "    <tr>\n",
       "      <th>665822</th>\n",
       "      <td>USS0019L03S</td>\n",
       "      <td>20110108</td>\n",
       "      <td>TAVG</td>\n",
       "      <td>-45</td>\n",
       "    </tr>\n",
       "    <tr>\n",
       "      <th>665829</th>\n",
       "      <td>USS0014G01S</td>\n",
       "      <td>20110108</td>\n",
       "      <td>TAVG</td>\n",
       "      <td>-58</td>\n",
       "    </tr>\n",
       "    <tr>\n",
       "      <th>665836</th>\n",
       "      <td>USS0017B04S</td>\n",
       "      <td>20110108</td>\n",
       "      <td>TAVG</td>\n",
       "      <td>-51</td>\n",
       "    </tr>\n",
       "    <tr>\n",
       "      <th>665845</th>\n",
       "      <td>USS0014F03S</td>\n",
       "      <td>20110108</td>\n",
       "      <td>TAVG</td>\n",
       "      <td>-71</td>\n",
       "    </tr>\n",
       "    <tr>\n",
       "      <th>665852</th>\n",
       "      <td>USS0014C04S</td>\n",
       "      <td>20110108</td>\n",
       "      <td>TAVG</td>\n",
       "      <td>-64</td>\n",
       "    </tr>\n",
       "    <tr>\n",
       "      <th>665859</th>\n",
       "      <td>USS0011G01S</td>\n",
       "      <td>20110108</td>\n",
       "      <td>TAVG</td>\n",
       "      <td>-43</td>\n",
       "    </tr>\n",
       "    <tr>\n",
       "      <th>665866</th>\n",
       "      <td>USS0011G06S</td>\n",
       "      <td>20110108</td>\n",
       "      <td>TAVG</td>\n",
       "      <td>-49</td>\n",
       "    </tr>\n",
       "    <tr>\n",
       "      <th>665873</th>\n",
       "      <td>USS0013D26S</td>\n",
       "      <td>20110108</td>\n",
       "      <td>TAVG</td>\n",
       "      <td>-46</td>\n",
       "    </tr>\n",
       "    <tr>\n",
       "      <th>665882</th>\n",
       "      <td>USS0008M07S</td>\n",
       "      <td>20110108</td>\n",
       "      <td>TAVG</td>\n",
       "      <td>-19</td>\n",
       "    </tr>\n",
       "    <tr>\n",
       "      <th>665889</th>\n",
       "      <td>USS0006J03S</td>\n",
       "      <td>20110108</td>\n",
       "      <td>TAVG</td>\n",
       "      <td>-37</td>\n",
       "    </tr>\n",
       "    <tr>\n",
       "      <th>665893</th>\n",
       "      <td>USR0000CFIV</td>\n",
       "      <td>20110108</td>\n",
       "      <td>TAVG</td>\n",
       "      <td>86</td>\n",
       "    </tr>\n",
       "    <tr>\n",
       "      <th>665896</th>\n",
       "      <td>USR0000CHAS</td>\n",
       "      <td>20110108</td>\n",
       "      <td>TAVG</td>\n",
       "      <td>50</td>\n",
       "    </tr>\n",
       "    <tr>\n",
       "      <th>665899</th>\n",
       "      <td>USR0000MMAR</td>\n",
       "      <td>20110108</td>\n",
       "      <td>TAVG</td>\n",
       "      <td>75</td>\n",
       "    </tr>\n",
       "    <tr>\n",
       "      <th>665902</th>\n",
       "      <td>USR0000TLEW</td>\n",
       "      <td>20110108</td>\n",
       "      <td>TAVG</td>\n",
       "      <td>-28</td>\n",
       "    </tr>\n",
       "    <tr>\n",
       "      <th>665907</th>\n",
       "      <td>USR0000ABRO</td>\n",
       "      <td>20110108</td>\n",
       "      <td>TAVG</td>\n",
       "      <td>-114</td>\n",
       "    </tr>\n",
       "    <tr>\n",
       "      <th>665910</th>\n",
       "      <td>USR0000CCAS</td>\n",
       "      <td>20110108</td>\n",
       "      <td>TAVG</td>\n",
       "      <td>71</td>\n",
       "    </tr>\n",
       "    <tr>\n",
       "      <th>665913</th>\n",
       "      <td>USR0000CERN</td>\n",
       "      <td>20110108</td>\n",
       "      <td>TAVG</td>\n",
       "      <td>-33</td>\n",
       "    </tr>\n",
       "    <tr>\n",
       "      <th>665948</th>\n",
       "      <td>TS000060765</td>\n",
       "      <td>20110108</td>\n",
       "      <td>TAVG</td>\n",
       "      <td>137</td>\n",
       "    </tr>\n",
       "    <tr>\n",
       "      <th>665960</th>\n",
       "      <td>TH000048565</td>\n",
       "      <td>20110108</td>\n",
       "      <td>TAVG</td>\n",
       "      <td>274</td>\n",
       "    </tr>\n",
       "    <tr>\n",
       "      <th>666034</th>\n",
       "      <td>ASN00024580</td>\n",
       "      <td>20110108</td>\n",
       "      <td>TAVG</td>\n",
       "      <td>179</td>\n",
       "    </tr>\n",
       "    <tr>\n",
       "      <th>666044</th>\n",
       "      <td>SP000008410</td>\n",
       "      <td>20110108</td>\n",
       "      <td>TAVG</td>\n",
       "      <td>122</td>\n",
       "    </tr>\n",
       "    <tr>\n",
       "      <th>666075</th>\n",
       "      <td>RSM00034321</td>\n",
       "      <td>20110108</td>\n",
       "      <td>TAVG</td>\n",
       "      <td>-41</td>\n",
       "    </tr>\n",
       "    <tr>\n",
       "      <th>666080</th>\n",
       "      <td>RSM00029866</td>\n",
       "      <td>20110108</td>\n",
       "      <td>TAVG</td>\n",
       "      <td>-334</td>\n",
       "    </tr>\n",
       "    <tr>\n",
       "      <th>666085</th>\n",
       "      <td>RSM00028367</td>\n",
       "      <td>20110108</td>\n",
       "      <td>TAVG</td>\n",
       "      <td>-201</td>\n",
       "    </tr>\n",
       "    <tr>\n",
       "      <th>...</th>\n",
       "      <td>...</td>\n",
       "      <td>...</td>\n",
       "      <td>...</td>\n",
       "      <td>...</td>\n",
       "    </tr>\n",
       "    <tr>\n",
       "      <th>761110</th>\n",
       "      <td>SU000062721</td>\n",
       "      <td>20110108</td>\n",
       "      <td>TAVG</td>\n",
       "      <td>220</td>\n",
       "    </tr>\n",
       "    <tr>\n",
       "      <th>761159</th>\n",
       "      <td>USR0000MFOU</td>\n",
       "      <td>20110108</td>\n",
       "      <td>TAVG</td>\n",
       "      <td>-16</td>\n",
       "    </tr>\n",
       "    <tr>\n",
       "      <th>761162</th>\n",
       "      <td>USR0000IDIA</td>\n",
       "      <td>20110108</td>\n",
       "      <td>TAVG</td>\n",
       "      <td>-52</td>\n",
       "    </tr>\n",
       "    <tr>\n",
       "      <th>761173</th>\n",
       "      <td>USR0000IBUL</td>\n",
       "      <td>20110108</td>\n",
       "      <td>TAVG</td>\n",
       "      <td>-49</td>\n",
       "    </tr>\n",
       "    <tr>\n",
       "      <th>761176</th>\n",
       "      <td>USR0000HMAR</td>\n",
       "      <td>20110108</td>\n",
       "      <td>TAVG</td>\n",
       "      <td>212</td>\n",
       "    </tr>\n",
       "    <tr>\n",
       "      <th>761179</th>\n",
       "      <td>USR0000AMTL</td>\n",
       "      <td>20110108</td>\n",
       "      <td>TAVG</td>\n",
       "      <td>12</td>\n",
       "    </tr>\n",
       "    <tr>\n",
       "      <th>761182</th>\n",
       "      <td>USR0000CYUR</td>\n",
       "      <td>20110108</td>\n",
       "      <td>TAVG</td>\n",
       "      <td>41</td>\n",
       "    </tr>\n",
       "    <tr>\n",
       "      <th>761185</th>\n",
       "      <td>USR0000GMET</td>\n",
       "      <td>20110108</td>\n",
       "      <td>TAVG</td>\n",
       "      <td>80</td>\n",
       "    </tr>\n",
       "    <tr>\n",
       "      <th>761189</th>\n",
       "      <td>USR0000AINN</td>\n",
       "      <td>20110108</td>\n",
       "      <td>TAVG</td>\n",
       "      <td>-69</td>\n",
       "    </tr>\n",
       "    <tr>\n",
       "      <th>761196</th>\n",
       "      <td>ROE00108889</td>\n",
       "      <td>20110108</td>\n",
       "      <td>TAVG</td>\n",
       "      <td>-29</td>\n",
       "    </tr>\n",
       "    <tr>\n",
       "      <th>761218</th>\n",
       "      <td>PA000086297</td>\n",
       "      <td>20110108</td>\n",
       "      <td>TAVG</td>\n",
       "      <td>306</td>\n",
       "    </tr>\n",
       "    <tr>\n",
       "      <th>761226</th>\n",
       "      <td>NO000098550</td>\n",
       "      <td>20110108</td>\n",
       "      <td>TAVG</td>\n",
       "      <td>-82</td>\n",
       "    </tr>\n",
       "    <tr>\n",
       "      <th>761233</th>\n",
       "      <td>MIM00067586</td>\n",
       "      <td>20110108</td>\n",
       "      <td>TAVG</td>\n",
       "      <td>230</td>\n",
       "    </tr>\n",
       "    <tr>\n",
       "      <th>761241</th>\n",
       "      <td>MGM00044241</td>\n",
       "      <td>20110108</td>\n",
       "      <td>TAVG</td>\n",
       "      <td>-296</td>\n",
       "    </tr>\n",
       "    <tr>\n",
       "      <th>761244</th>\n",
       "      <td>LYE00147747</td>\n",
       "      <td>20110108</td>\n",
       "      <td>TAVG</td>\n",
       "      <td>118</td>\n",
       "    </tr>\n",
       "    <tr>\n",
       "      <th>761248</th>\n",
       "      <td>LG000026435</td>\n",
       "      <td>20110108</td>\n",
       "      <td>TAVG</td>\n",
       "      <td>2</td>\n",
       "    </tr>\n",
       "    <tr>\n",
       "      <th>761261</th>\n",
       "      <td>KZ000035108</td>\n",
       "      <td>20110108</td>\n",
       "      <td>TAVG</td>\n",
       "      <td>-133</td>\n",
       "    </tr>\n",
       "    <tr>\n",
       "      <th>761269</th>\n",
       "      <td>JA000047895</td>\n",
       "      <td>20110108</td>\n",
       "      <td>TAVG</td>\n",
       "      <td>54</td>\n",
       "    </tr>\n",
       "    <tr>\n",
       "      <th>761314</th>\n",
       "      <td>TUM00017155</td>\n",
       "      <td>20110108</td>\n",
       "      <td>TAVG</td>\n",
       "      <td>6</td>\n",
       "    </tr>\n",
       "    <tr>\n",
       "      <th>761324</th>\n",
       "      <td>TUM00017099</td>\n",
       "      <td>20110108</td>\n",
       "      <td>TAVG</td>\n",
       "      <td>-37</td>\n",
       "    </tr>\n",
       "    <tr>\n",
       "      <th>761334</th>\n",
       "      <td>BOM00026706</td>\n",
       "      <td>20110108</td>\n",
       "      <td>TAVG</td>\n",
       "      <td>18</td>\n",
       "    </tr>\n",
       "    <tr>\n",
       "      <th>761345</th>\n",
       "      <td>BL000085114</td>\n",
       "      <td>20110108</td>\n",
       "      <td>TAVG</td>\n",
       "      <td>266</td>\n",
       "    </tr>\n",
       "    <tr>\n",
       "      <th>761346</th>\n",
       "      <td>AYM00089332</td>\n",
       "      <td>20110108</td>\n",
       "      <td>TAVG</td>\n",
       "      <td>-57</td>\n",
       "    </tr>\n",
       "    <tr>\n",
       "      <th>761352</th>\n",
       "      <td>AU000015410</td>\n",
       "      <td>20110108</td>\n",
       "      <td>TAVG</td>\n",
       "      <td>-65</td>\n",
       "    </tr>\n",
       "    <tr>\n",
       "      <th>761358</th>\n",
       "      <td>IN003020100</td>\n",
       "      <td>20110108</td>\n",
       "      <td>TAVG</td>\n",
       "      <td>174</td>\n",
       "    </tr>\n",
       "    <tr>\n",
       "      <th>761366</th>\n",
       "      <td>GRM00016622</td>\n",
       "      <td>20110108</td>\n",
       "      <td>TAVG</td>\n",
       "      <td>42</td>\n",
       "    </tr>\n",
       "    <tr>\n",
       "      <th>761401</th>\n",
       "      <td>RSM00031707</td>\n",
       "      <td>20110108</td>\n",
       "      <td>TAVG</td>\n",
       "      <td>-212</td>\n",
       "    </tr>\n",
       "    <tr>\n",
       "      <th>761406</th>\n",
       "      <td>RSM00029282</td>\n",
       "      <td>20110108</td>\n",
       "      <td>TAVG</td>\n",
       "      <td>-222</td>\n",
       "    </tr>\n",
       "    <tr>\n",
       "      <th>761431</th>\n",
       "      <td>EN000026214</td>\n",
       "      <td>20110108</td>\n",
       "      <td>TAVG</td>\n",
       "      <td>-10</td>\n",
       "    </tr>\n",
       "    <tr>\n",
       "      <th>761437</th>\n",
       "      <td>CHM00059211</td>\n",
       "      <td>20110108</td>\n",
       "      <td>TAVG</td>\n",
       "      <td>76</td>\n",
       "    </tr>\n",
       "  </tbody>\n",
       "</table>\n",
       "<p>5357 rows × 4 columns</p>\n",
       "</div>"
      ],
      "text/plain": [
       "                 id      date  type  Value1\n",
       "665664  ASN00068151  20110108  TAVG     223\n",
       "665668  ARM00087582  20110108  TAVG     252\n",
       "665686  CA002201903  20110108  TAVG    -267\n",
       "665724  UVM00065518  20110108  TAVG     256\n",
       "665780  BXM00096315  20110108  TAVG     265\n",
       "665815  USS0018F01S  20110108  TAVG     -35\n",
       "665822  USS0019L03S  20110108  TAVG     -45\n",
       "665829  USS0014G01S  20110108  TAVG     -58\n",
       "665836  USS0017B04S  20110108  TAVG     -51\n",
       "665845  USS0014F03S  20110108  TAVG     -71\n",
       "665852  USS0014C04S  20110108  TAVG     -64\n",
       "665859  USS0011G01S  20110108  TAVG     -43\n",
       "665866  USS0011G06S  20110108  TAVG     -49\n",
       "665873  USS0013D26S  20110108  TAVG     -46\n",
       "665882  USS0008M07S  20110108  TAVG     -19\n",
       "665889  USS0006J03S  20110108  TAVG     -37\n",
       "665893  USR0000CFIV  20110108  TAVG      86\n",
       "665896  USR0000CHAS  20110108  TAVG      50\n",
       "665899  USR0000MMAR  20110108  TAVG      75\n",
       "665902  USR0000TLEW  20110108  TAVG     -28\n",
       "665907  USR0000ABRO  20110108  TAVG    -114\n",
       "665910  USR0000CCAS  20110108  TAVG      71\n",
       "665913  USR0000CERN  20110108  TAVG     -33\n",
       "665948  TS000060765  20110108  TAVG     137\n",
       "665960  TH000048565  20110108  TAVG     274\n",
       "666034  ASN00024580  20110108  TAVG     179\n",
       "666044  SP000008410  20110108  TAVG     122\n",
       "666075  RSM00034321  20110108  TAVG     -41\n",
       "666080  RSM00029866  20110108  TAVG    -334\n",
       "666085  RSM00028367  20110108  TAVG    -201\n",
       "...             ...       ...   ...     ...\n",
       "761110  SU000062721  20110108  TAVG     220\n",
       "761159  USR0000MFOU  20110108  TAVG     -16\n",
       "761162  USR0000IDIA  20110108  TAVG     -52\n",
       "761173  USR0000IBUL  20110108  TAVG     -49\n",
       "761176  USR0000HMAR  20110108  TAVG     212\n",
       "761179  USR0000AMTL  20110108  TAVG      12\n",
       "761182  USR0000CYUR  20110108  TAVG      41\n",
       "761185  USR0000GMET  20110108  TAVG      80\n",
       "761189  USR0000AINN  20110108  TAVG     -69\n",
       "761196  ROE00108889  20110108  TAVG     -29\n",
       "761218  PA000086297  20110108  TAVG     306\n",
       "761226  NO000098550  20110108  TAVG     -82\n",
       "761233  MIM00067586  20110108  TAVG     230\n",
       "761241  MGM00044241  20110108  TAVG    -296\n",
       "761244  LYE00147747  20110108  TAVG     118\n",
       "761248  LG000026435  20110108  TAVG       2\n",
       "761261  KZ000035108  20110108  TAVG    -133\n",
       "761269  JA000047895  20110108  TAVG      54\n",
       "761314  TUM00017155  20110108  TAVG       6\n",
       "761324  TUM00017099  20110108  TAVG     -37\n",
       "761334  BOM00026706  20110108  TAVG      18\n",
       "761345  BL000085114  20110108  TAVG     266\n",
       "761346  AYM00089332  20110108  TAVG     -57\n",
       "761352  AU000015410  20110108  TAVG     -65\n",
       "761358  IN003020100  20110108  TAVG     174\n",
       "761366  GRM00016622  20110108  TAVG      42\n",
       "761401  RSM00031707  20110108  TAVG    -212\n",
       "761406  RSM00029282  20110108  TAVG    -222\n",
       "761431  EN000026214  20110108  TAVG     -10\n",
       "761437  CHM00059211  20110108  TAVG      76\n",
       "\n",
       "[5357 rows x 4 columns]"
      ]
     },
     "execution_count": 74,
     "metadata": {},
     "output_type": "execute_result"
    }
   ],
   "source": [
    "weatherdf[weatherdf[\"type\"]==\"TAVG\"]"
   ]
  },
  {
   "cell_type": "code",
   "execution_count": 79,
   "metadata": {
    "collapsed": false,
    "deletable": true,
    "editable": true
   },
   "outputs": [
    {
     "name": "stdout",
     "output_type": "stream",
     "text": [
      "<pandas.core.groupby.SeriesGroupBy object at 0x000000007CB75160>\n"
     ]
    }
   ],
   "source": []
  },
  {
   "cell_type": "code",
   "execution_count": null,
   "metadata": {
    "collapsed": true
   },
   "outputs": [],
   "source": []
  }
 ],
 "metadata": {
  "kernelspec": {
   "display_name": "Python 2",
   "language": "python",
   "name": "python2"
  },
  "language_info": {
   "codemirror_mode": {
    "name": "ipython",
    "version": 2
   },
   "file_extension": ".py",
   "mimetype": "text/x-python",
   "name": "python",
   "nbconvert_exporter": "python",
   "pygments_lexer": "ipython2",
   "version": "2.7.13"
  }
 },
 "nbformat": 4,
 "nbformat_minor": 2
}
